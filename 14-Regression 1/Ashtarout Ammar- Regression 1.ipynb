{
 "cells": [
  {
   "cell_type": "markdown",
   "metadata": {
    "collapsed": true
   },
   "source": [
    "# Regression Modeling, Part 1\n",
    "\n",
    "This lesson is adapted from a few sources: \n",
    "\n",
    "- The statsmodels tutorials: http://statsmodels.sourceforge.net/\n",
    "- General Assembly's Data Science Course: https://github.com/justmarkham/DAT4 \n",
    "- Urban Informatics and Visualization Course: https://github.com/waddell/urban-informatics-and-visualization\n",
    "\n",
    "\n",
    "### Motivation\n",
    "\n",
    "Why are we learning linear regression? \n",
    "\n",
    "It gives us a way to more formally understand the relationships between variables.  There are a few things in particular we may want to do: \n",
    "\n",
    "- inference: Identify whether the correlations are statistically significant. Of particular interest is the ability to control for confounding factors. \n",
    "- prediction: Change variables and predict the outcomes. \n",
    "\n",
    "\n",
    "### Structure and Assumptions\n",
    "\n",
    "The statistical model is assumed to be $Y = X\\beta + \\epsilon$, where $\\epsilon\\sim N\\left(0,\\sigma^{2}\\right)$\n",
    "\n",
    "We focus here on the simple Ordinary Least Squares (OLS) model that is the most widely used, but makes strong assumptions about the errors being indepentently and identically distributed (i.i.d.).  We won't get much into the theory/mathematics of these models.  There is plenty written about that, and it should have been covered in your stats classes.  Here, we will focus more on how to specify a good model.  \n",
    "\n",
    "For now, there are a few things to keep in mind: \n",
    "\n",
    "1. The response variable should be continuous. \n",
    "2. The terms should be linear, but they can include non-linear transformations. \n",
    "3. The residuals (or errors) should be random. \n",
    "\n",
    "\n",
    "### Libraries\n",
    "\n",
    "Will be using [Statsmodels](http://statsmodels.sourceforge.net/).  Start with: \n",
    "\n",
    "    conda install statsmodels\n",
    "    \n",
    "    "
   ]
  },
  {
   "cell_type": "markdown",
   "metadata": {},
   "source": [
    "### Today's objective\n",
    "\n",
    "Today, we will be looking at wage and salary data to understand the factors that increase or decrease wages.  In particular, we are interested in knowing the effect of getting a degree in civil engineering!  \n",
    "\n",
    "We'll be using the PUMS data.  The PUMS (Public-Use Microdata Sample) comes from the Census Bureau's American Community Survey (ACS).  Each record represents an individual person, rather than being aggregate tabulations as most Census tables are.  To protect the privacy of respondents, home locations are only known at very aggregate geographies (known as PUMAs).  You can find the data here: \n",
    "\n",
    "https://www.census.gov/programs-surveys/acs/data/pums.html\n",
    "\n",
    "Let's start by downloading the data together. "
   ]
  },
  {
   "cell_type": "code",
   "execution_count": 1,
   "metadata": {},
   "outputs": [],
   "source": [
    "import pandas as pd\n",
    "import seaborn as sns\n",
    "import numpy as np\n",
    "import statsmodels.formula.api as smf\n",
    "\n",
    "# this allows plots to appear directly in the notebook\n",
    "%matplotlib inline"
   ]
  },
  {
   "cell_type": "code",
   "execution_count": 3,
   "metadata": {},
   "outputs": [
    {
     "name": "stderr",
     "output_type": "stream",
     "text": [
      "C:\\Users\\aham223\\Anaconda3\\lib\\site-packages\\IPython\\core\\interactiveshell.py:3146: DtypeWarning: Columns (1) have mixed types.Specify dtype option on import or set low_memory=False.\n",
      "  has_raised = await self.run_ast_nodes(code_ast.body, cell_name,\n"
     ]
    },
    {
     "data": {
      "text/html": [
       "<div>\n",
       "<style scoped>\n",
       "    .dataframe tbody tr th:only-of-type {\n",
       "        vertical-align: middle;\n",
       "    }\n",
       "\n",
       "    .dataframe tbody tr th {\n",
       "        vertical-align: top;\n",
       "    }\n",
       "\n",
       "    .dataframe thead th {\n",
       "        text-align: right;\n",
       "    }\n",
       "</style>\n",
       "<table border=\"1\" class=\"dataframe\">\n",
       "  <thead>\n",
       "    <tr style=\"text-align: right;\">\n",
       "      <th></th>\n",
       "      <th>RT</th>\n",
       "      <th>SERIALNO</th>\n",
       "      <th>DIVISION</th>\n",
       "      <th>SPORDER</th>\n",
       "      <th>PUMA</th>\n",
       "      <th>REGION</th>\n",
       "      <th>ST</th>\n",
       "      <th>ADJINC</th>\n",
       "      <th>PWGTP</th>\n",
       "      <th>AGEP</th>\n",
       "      <th>...</th>\n",
       "      <th>PWGTP71</th>\n",
       "      <th>PWGTP72</th>\n",
       "      <th>PWGTP73</th>\n",
       "      <th>PWGTP74</th>\n",
       "      <th>PWGTP75</th>\n",
       "      <th>PWGTP76</th>\n",
       "      <th>PWGTP77</th>\n",
       "      <th>PWGTP78</th>\n",
       "      <th>PWGTP79</th>\n",
       "      <th>PWGTP80</th>\n",
       "    </tr>\n",
       "  </thead>\n",
       "  <tbody>\n",
       "    <tr>\n",
       "      <th>0</th>\n",
       "      <td>P</td>\n",
       "      <td>2014000000017</td>\n",
       "      <td>6</td>\n",
       "      <td>1</td>\n",
       "      <td>1800</td>\n",
       "      <td>3</td>\n",
       "      <td>21</td>\n",
       "      <td>1070673</td>\n",
       "      <td>13</td>\n",
       "      <td>42</td>\n",
       "      <td>...</td>\n",
       "      <td>14</td>\n",
       "      <td>5</td>\n",
       "      <td>5</td>\n",
       "      <td>32</td>\n",
       "      <td>15</td>\n",
       "      <td>10</td>\n",
       "      <td>11</td>\n",
       "      <td>15</td>\n",
       "      <td>11</td>\n",
       "      <td>26</td>\n",
       "    </tr>\n",
       "    <tr>\n",
       "      <th>1</th>\n",
       "      <td>P</td>\n",
       "      <td>2014000000017</td>\n",
       "      <td>6</td>\n",
       "      <td>2</td>\n",
       "      <td>1800</td>\n",
       "      <td>3</td>\n",
       "      <td>21</td>\n",
       "      <td>1070673</td>\n",
       "      <td>14</td>\n",
       "      <td>47</td>\n",
       "      <td>...</td>\n",
       "      <td>12</td>\n",
       "      <td>4</td>\n",
       "      <td>4</td>\n",
       "      <td>25</td>\n",
       "      <td>22</td>\n",
       "      <td>15</td>\n",
       "      <td>14</td>\n",
       "      <td>13</td>\n",
       "      <td>15</td>\n",
       "      <td>29</td>\n",
       "    </tr>\n",
       "    <tr>\n",
       "      <th>2</th>\n",
       "      <td>P</td>\n",
       "      <td>2014000000017</td>\n",
       "      <td>6</td>\n",
       "      <td>3</td>\n",
       "      <td>1800</td>\n",
       "      <td>3</td>\n",
       "      <td>21</td>\n",
       "      <td>1070673</td>\n",
       "      <td>13</td>\n",
       "      <td>13</td>\n",
       "      <td>...</td>\n",
       "      <td>10</td>\n",
       "      <td>3</td>\n",
       "      <td>4</td>\n",
       "      <td>24</td>\n",
       "      <td>21</td>\n",
       "      <td>11</td>\n",
       "      <td>13</td>\n",
       "      <td>13</td>\n",
       "      <td>11</td>\n",
       "      <td>25</td>\n",
       "    </tr>\n",
       "    <tr>\n",
       "      <th>3</th>\n",
       "      <td>P</td>\n",
       "      <td>2014000000017</td>\n",
       "      <td>6</td>\n",
       "      <td>4</td>\n",
       "      <td>1800</td>\n",
       "      <td>3</td>\n",
       "      <td>21</td>\n",
       "      <td>1070673</td>\n",
       "      <td>13</td>\n",
       "      <td>8</td>\n",
       "      <td>...</td>\n",
       "      <td>11</td>\n",
       "      <td>3</td>\n",
       "      <td>3</td>\n",
       "      <td>24</td>\n",
       "      <td>22</td>\n",
       "      <td>12</td>\n",
       "      <td>13</td>\n",
       "      <td>13</td>\n",
       "      <td>13</td>\n",
       "      <td>25</td>\n",
       "    </tr>\n",
       "    <tr>\n",
       "      <th>4</th>\n",
       "      <td>P</td>\n",
       "      <td>2014000000076</td>\n",
       "      <td>6</td>\n",
       "      <td>1</td>\n",
       "      <td>2500</td>\n",
       "      <td>3</td>\n",
       "      <td>21</td>\n",
       "      <td>1070673</td>\n",
       "      <td>43</td>\n",
       "      <td>43</td>\n",
       "      <td>...</td>\n",
       "      <td>11</td>\n",
       "      <td>76</td>\n",
       "      <td>46</td>\n",
       "      <td>68</td>\n",
       "      <td>73</td>\n",
       "      <td>41</td>\n",
       "      <td>70</td>\n",
       "      <td>13</td>\n",
       "      <td>38</td>\n",
       "      <td>41</td>\n",
       "    </tr>\n",
       "  </tbody>\n",
       "</table>\n",
       "<p>5 rows × 286 columns</p>\n",
       "</div>"
      ],
      "text/plain": [
       "  RT       SERIALNO  DIVISION  SPORDER  PUMA  REGION  ST   ADJINC  PWGTP  \\\n",
       "0  P  2014000000017         6        1  1800       3  21  1070673     13   \n",
       "1  P  2014000000017         6        2  1800       3  21  1070673     14   \n",
       "2  P  2014000000017         6        3  1800       3  21  1070673     13   \n",
       "3  P  2014000000017         6        4  1800       3  21  1070673     13   \n",
       "4  P  2014000000076         6        1  2500       3  21  1070673     43   \n",
       "\n",
       "   AGEP  ...  PWGTP71  PWGTP72  PWGTP73  PWGTP74  PWGTP75  PWGTP76  PWGTP77  \\\n",
       "0    42  ...       14        5        5       32       15       10       11   \n",
       "1    47  ...       12        4        4       25       22       15       14   \n",
       "2    13  ...       10        3        4       24       21       11       13   \n",
       "3     8  ...       11        3        3       24       22       12       13   \n",
       "4    43  ...       11       76       46       68       73       41       70   \n",
       "\n",
       "   PWGTP78  PWGTP79  PWGTP80  \n",
       "0       15       11       26  \n",
       "1       13       15       29  \n",
       "2       13       11       25  \n",
       "3       13       13       25  \n",
       "4       13       38       41  \n",
       "\n",
       "[5 rows x 286 columns]"
      ]
     },
     "execution_count": 3,
     "metadata": {},
     "output_type": "execute_result"
    }
   ],
   "source": [
    "# get the data\n",
    "df = pd.read_csv('data/psam_p21.csv')\n",
    "df.head()"
   ]
  },
  {
   "cell_type": "code",
   "execution_count": 9,
   "metadata": {},
   "outputs": [
    {
     "data": {
      "text/plain": [
       "108994"
      ]
     },
     "execution_count": 9,
     "metadata": {},
     "output_type": "execute_result"
    }
   ],
   "source": [
    "# keep only the people who have worked within the last 12 months\n",
    "'''\n",
    "WKL 1\n",
    "When last worked\n",
    "b .N/A (less than 16 years old)\n",
    "1 .Within the past 12 months\n",
    "2 .1-5 years ago\n",
    "3 .Over 5 years ago or never worked\n",
    "'''\n",
    "\n",
    "df = df[df['WKL']==1]\n",
    "len(df)"
   ]
  },
  {
   "cell_type": "markdown",
   "metadata": {},
   "source": [
    "### Look at the data\n",
    "\n",
    "It is often a good idea to look at the data we want to model, and see how it relates to some variables we expect to be important.  We can do this using seaborn, which we learned about a few weeks ago.  "
   ]
  },
  {
   "cell_type": "code",
   "execution_count": 10,
   "metadata": {},
   "outputs": [
    {
     "name": "stderr",
     "output_type": "stream",
     "text": [
      "C:\\Users\\aham223\\Anaconda3\\lib\\site-packages\\seaborn\\distributions.py:2551: FutureWarning: `distplot` is a deprecated function and will be removed in a future version. Please adapt your code to use either `displot` (a figure-level function with similar flexibility) or `histplot` (an axes-level function for histograms).\n",
      "  warnings.warn(msg, FutureWarning)\n"
     ]
    },
    {
     "data": {
      "text/plain": [
       "<AxesSubplot:xlabel='WAGP', ylabel='Density'>"
      ]
     },
     "execution_count": 10,
     "metadata": {},
     "output_type": "execute_result"
    },
    {
     "data": {
      "image/png": "[encoded data removed]",
      "text/plain": [
       "<Figure size 432x288 with 1 Axes>"
      ]
     },
     "metadata": {
      "needs_background": "light"
     },
     "output_type": "display_data"
    }
   ],
   "source": [
    "'''\n",
    "WAGP 6\n",
    "Wages or salary income past 12 months\n",
    "bbbbbb .N/A (less than 15 years old)\n",
    "000000 .None\n",
    "000001..999999 .$1 to 999999 (Rounded and top-coded)\n",
    "'''\n",
    "\n",
    "sns.distplot(df['WAGP'])"
   ]
  },
  {
   "cell_type": "code",
   "execution_count": 11,
   "metadata": {},
   "outputs": [
    {
     "name": "stderr",
     "output_type": "stream",
     "text": [
      "C:\\Users\\aham223\\Anaconda3\\lib\\site-packages\\seaborn\\axisgrid.py:2015: UserWarning: The `size` parameter has been renamed to `height`; please update your code.\n",
      "  warnings.warn(msg, UserWarning)\n"
     ]
    },
    {
     "data": {
      "text/plain": [
       "<seaborn.axisgrid.JointGrid at 0x22233b51940>"
      ]
     },
     "execution_count": 11,
     "metadata": {},
     "output_type": "execute_result"
    },
    {
     "data": {
      "image/png": "[encoded data removed]",
      "text/plain": [
       "<Figure size 576x576 with 3 Axes>"
      ]
     },
     "metadata": {
      "needs_background": "light"
     },
     "output_type": "display_data"
    }
   ],
   "source": [
    "# we may think that wages relate to hours worked, so let's look at that relationship\n",
    "'''\n",
    "WKHP 2\n",
    "Usual hours worked per week past 12 months\n",
    "bb .N/A (less than 16 years old/did not work during the past 12\n",
    ".months)\n",
    "01..98 .1 to 98 usual hours\n",
    "99 .99 or more usual hours\n",
    "'''\n",
    "\n",
    "sns.jointplot(x=\"WKHP\", y=\"WAGP\", data=df, size=8)"
   ]
  },
  {
   "cell_type": "markdown",
   "metadata": {},
   "source": [
    "Notice how the data are lumpy.  It looks like people round when they report their values. "
   ]
  },
  {
   "cell_type": "code",
   "execution_count": 6,
   "metadata": {},
   "outputs": [
    {
     "data": {
      "text/plain": [
       "<AxesSubplot:xlabel='WKHP', ylabel='WAGP'>"
      ]
     },
     "execution_count": 6,
     "metadata": {},
     "output_type": "execute_result"
    },
    {
     "data": {
      "image/png": "[encoded data removed]",
      "text/plain": [
       "<Figure size 432x288 with 1 Axes>"
      ]
     },
     "metadata": {
      "needs_background": "light"
     },
     "output_type": "display_data"
    }
   ],
   "source": [
    "# we can also look at a regression plot, like we did before\n",
    "sns.regplot(x=\"WKHP\", y=\"WAGP\", data=df)"
   ]
  },
  {
   "cell_type": "markdown",
   "metadata": {},
   "source": [
    "### Estimating a model\n",
    "\n",
    "OK, that's fine, we can do plots, but we want some actual numbers.  For this, we want to estimate what the model coefficients are. "
   ]
  },
  {
   "cell_type": "code",
   "execution_count": 14,
   "metadata": {},
   "outputs": [
    {
     "name": "stdout",
     "output_type": "stream",
     "text": [
      "                            OLS Regression Results                            \n",
      "==============================================================================\n",
      "Dep. Variable:                   WAGP   R-squared:                       0.136\n",
      "Model:                            OLS   Adj. R-squared:                  0.136\n",
      "Method:                 Least Squares   F-statistic:                 1.717e+04\n",
      "Date:                Thu, 18 Mar 2021   Prob (F-statistic):               0.00\n",
      "Time:                        13:31:17   Log-Likelihood:            -1.3239e+06\n",
      "No. Observations:              108994   AIC:                         2.648e+06\n",
      "Df Residuals:                  108992   BIC:                         2.648e+06\n",
      "Df Model:                           1                                         \n",
      "Covariance Type:            nonrobust                                         \n",
      "==============================================================================\n",
      "                 coef    std err          t      P>|t|      [0.025      0.975]\n",
      "------------------------------------------------------------------------------\n",
      "Intercept  -1.437e+04    431.405    -33.306      0.000   -1.52e+04   -1.35e+04\n",
      "WKHP        1399.6643     10.681    131.039      0.000    1378.729    1420.599\n",
      "==============================================================================\n",
      "Omnibus:                    98123.158   Durbin-Watson:                   1.884\n",
      "Prob(Omnibus):                  0.000   Jarque-Bera (JB):          3727700.515\n",
      "Skew:                           4.350   Prob(JB):                         0.00\n",
      "Kurtosis:                      30.297   Cond. No.                         126.\n",
      "==============================================================================\n",
      "\n",
      "Notes:\n",
      "[1] Standard Errors assume that the covariance matrix of the errors is correctly specified.\n"
     ]
    }
   ],
   "source": [
    "# This is a basic model estimation in statsmodels\n",
    "# the dependent variable is on the left side of the ~\n",
    "mod = smf.ols(formula='WAGP ~ WKHP', data=df)#stats model ols specify the model \n",
    "res = mod.fit()# fit the model \n",
    "print(res.summary())"
   ]
  },
  {
   "cell_type": "markdown",
   "metadata": {},
   "source": [
    "Notice a few things: \n",
    "\n",
    "1. Goodness of fit measures\n",
    "2. Model coefficients and t-statistics\n",
    "3. The model and results objects"
   ]
  },
  {
   "cell_type": "code",
   "execution_count": 10,
   "metadata": {},
   "outputs": [
    {
     "name": "stdout",
     "output_type": "stream",
     "text": [
      "                            OLS Regression Results                            \n",
      "==============================================================================\n",
      "Dep. Variable:                   WAGP   R-squared:                       0.161\n",
      "Model:                            OLS   Adj. R-squared:                  0.161\n",
      "Method:                 Least Squares   F-statistic:                 1.042e+04\n",
      "Date:                Sun, 21 Mar 2021   Prob (F-statistic):               0.00\n",
      "Time:                        22:01:39   Log-Likelihood:            -1.3224e+06\n",
      "No. Observations:              108994   AIC:                         2.645e+06\n",
      "Df Residuals:                  108991   BIC:                         2.645e+06\n",
      "Df Model:                           2                                         \n",
      "Covariance Type:            nonrobust                                         \n",
      "==============================================================================\n",
      "                 coef    std err          t      P>|t|      [0.025      0.975]\n",
      "------------------------------------------------------------------------------\n",
      "Intercept  -3.398e+04    549.495    -61.833      0.000   -3.51e+04   -3.29e+04\n",
      "WKHP        1351.5151     10.564    127.940      0.000    1330.810    1372.220\n",
      "AGEP         504.3927      8.951     56.348      0.000     486.848     521.937\n",
      "==============================================================================\n",
      "Omnibus:                    97951.972   Durbin-Watson:                   1.893\n",
      "Prob(Omnibus):                  0.000   Jarque-Bera (JB):          3758269.445\n",
      "Skew:                           4.333   Prob(JB):                         0.00\n",
      "Kurtosis:                      30.431   Cond. No.                         239.\n",
      "==============================================================================\n",
      "\n",
      "Notes:\n",
      "[1] Standard Errors assume that the covariance matrix of the errors is correctly specified.\n"
     ]
    }
   ],
   "source": [
    "# That's fine, but we may try some more things.  Perhaps age matters. \n",
    "# More experience -> higher wages? \n",
    "\n",
    "mod = smf.ols(formula='WAGP ~ WKHP + AGEP', data=df)\n",
    "res = mod.fit()\n",
    "print(res.summary())"
   ]
  },
  {
   "cell_type": "markdown",
   "metadata": {},
   "source": [
    "### Categorical variables\n",
    "\n",
    "We may also want to include categorical variables.  We can include them by calculating a 'dummy' variable, which is 1 if the value is in a category, and zero otherwise.  "
   ]
  },
  {
   "cell_type": "code",
   "execution_count": 11,
   "metadata": {},
   "outputs": [],
   "source": [
    "'''\n",
    "SCHL 2\n",
    "Educational attainment\n",
    "bb .N/A (less than 3 years old)\n",
    "01 .No schooling completed\n",
    "02 .Nursery school, preschool 03 .Kindergarten\n",
    "04 .Grade 1\n",
    "05 .Grade 2\n",
    "06 .Grade 3\n",
    "07 .Grade 4\n",
    "08 .Grade 5\n",
    "09 .Grade 6\n",
    "10 .Grade 7\n",
    "11 .Grade 8\n",
    "12 .Grade 9\n",
    "13 .Grade 10\n",
    "14 .Grade 11 15 .12th grade - no diploma\n",
    "16 .Regular high school diploma\n",
    "17 .GED or alternative credential\n",
    "18 .Some college, but less than 1 year\n",
    "19 .1 or more years of college credit, no degree\n",
    "20 .Associate's degree\n",
    "21 .Bachelor's degree\n",
    "22 .Master's degree\n",
    "23 .Professional degree beyond a bachelor's degree\n",
    "24 .Doctorate degree\n",
    "'''\n",
    "\n",
    "# Is someone a college grad\n",
    "df['college_grad'] = df['SCHL'].apply(lambda x : x>=20)# to detect if I have a college degree or not "
   ]
  },
  {
   "cell_type": "code",
   "execution_count": 12,
   "metadata": {},
   "outputs": [
    {
     "name": "stdout",
     "output_type": "stream",
     "text": [
      "                            OLS Regression Results                            \n",
      "==============================================================================\n",
      "Dep. Variable:                   WAGP   R-squared:                       0.221\n",
      "Model:                            OLS   Adj. R-squared:                  0.221\n",
      "Method:                 Least Squares   F-statistic:                 1.029e+04\n",
      "Date:                Sun, 21 Mar 2021   Prob (F-statistic):               0.00\n",
      "Time:                        22:01:50   Log-Likelihood:            -1.3183e+06\n",
      "No. Observations:              108994   AIC:                         2.637e+06\n",
      "Df Residuals:                  108990   BIC:                         2.637e+06\n",
      "Df Model:                           3                                         \n",
      "Covariance Type:            nonrobust                                         \n",
      "========================================================================================\n",
      "                           coef    std err          t      P>|t|      [0.025      0.975]\n",
      "----------------------------------------------------------------------------------------\n",
      "Intercept            -3.693e+04    530.399    -69.630      0.000    -3.8e+04   -3.59e+04\n",
      "college_grad[T.True]  2.502e+04    272.662     91.777      0.000    2.45e+04    2.56e+04\n",
      "WKHP                  1254.0016     10.233    122.544      0.000    1233.945    1274.058\n",
      "AGEP                   436.7181      8.656     50.453      0.000     419.753     453.684\n",
      "==============================================================================\n",
      "Omnibus:                    98373.725   Durbin-Watson:                   1.942\n",
      "Prob(Omnibus):                  0.000   Jarque-Bera (JB):          3956377.825\n",
      "Skew:                           4.343   Prob(JB):                         0.00\n",
      "Kurtosis:                      31.209   Cond. No.                         239.\n",
      "==============================================================================\n",
      "\n",
      "Notes:\n",
      "[1] Standard Errors assume that the covariance matrix of the errors is correctly specified.\n"
     ]
    }
   ],
   "source": [
    "# note that I can wrap long strings with a \\ character\n",
    "mod = smf.ols(formula=\"WAGP \\\n",
    "                       ~ WKHP \\\n",
    "                       + AGEP \\\n",
    "                       + college_grad\", \n",
    "              data=df)\n",
    "res = mod.fit()\n",
    "print(res.summary())"
   ]
  },
  {
   "cell_type": "markdown",
   "metadata": {},
   "source": [
    "Looks like a college degree is worth $23,000 per year...\n",
    "\n",
    "What happens if we include both college and non-college in the same model? "
   ]
  },
  {
   "cell_type": "code",
   "execution_count": 13,
   "metadata": {},
   "outputs": [
    {
     "name": "stdout",
     "output_type": "stream",
     "text": [
      "                            OLS Regression Results                            \n",
      "==============================================================================\n",
      "Dep. Variable:                   WAGP   R-squared:                       0.221\n",
      "Model:                            OLS   Adj. R-squared:                  0.221\n",
      "Method:                 Least Squares   F-statistic:                 1.029e+04\n",
      "Date:                Sun, 21 Mar 2021   Prob (F-statistic):               0.00\n",
      "Time:                        22:02:47   Log-Likelihood:            -1.3183e+06\n",
      "No. Observations:              108994   AIC:                         2.637e+06\n",
      "Df Residuals:                  108990   BIC:                         2.637e+06\n",
      "Df Model:                           3                                         \n",
      "Covariance Type:            nonrobust                                         \n",
      "============================================================================================\n",
      "                               coef    std err          t      P>|t|      [0.025      0.975]\n",
      "--------------------------------------------------------------------------------------------\n",
      "Intercept                -1.628e+04    359.711    -45.258      0.000    -1.7e+04   -1.56e+04\n",
      "college_grad[T.True]      4372.1188    245.762     17.790      0.000    3890.428    4853.809\n",
      "not_college_grad[T.True] -2.065e+04    203.640   -101.414      0.000   -2.11e+04   -2.03e+04\n",
      "WKHP                      1254.0016     10.233    122.544      0.000    1233.945    1274.058\n",
      "AGEP                       436.7181      8.656     50.453      0.000     419.753     453.684\n",
      "==============================================================================\n",
      "Omnibus:                    98373.725   Durbin-Watson:                   1.942\n",
      "Prob(Omnibus):                  0.000   Jarque-Bera (JB):          3956377.825\n",
      "Skew:                           4.343   Prob(JB):                         0.00\n",
      "Kurtosis:                      31.209   Cond. No.                     1.15e+17\n",
      "==============================================================================\n",
      "\n",
      "Notes:\n",
      "[1] Standard Errors assume that the covariance matrix of the errors is correctly specified.\n",
      "[2] The smallest eigenvalue is 2.88e-26. This might indicate that there are\n",
      "strong multicollinearity problems or that the design matrix is singular.\n"
     ]
    }
   ],
   "source": [
    "# not a college grad\n",
    "df['not_college_grad'] = df['SCHL'].apply(lambda x : x<20)\n",
    "\n",
    "mod = smf.ols(formula=\"WAGP \\\n",
    "                       ~ WKHP \\\n",
    "                       + AGEP \\\n",
    "                       + college_grad \\\n",
    "                       + not_college_grad\", # could remove this variable \n",
    "              data=df)\n",
    "res = mod.fit()\n",
    "print(res.summary())"
   ]
  },
  {
   "cell_type": "markdown",
   "metadata": {},
   "source": [
    "We get a warning, and very different results for that term.  This is an over-specified model, and the method cannot estimate the correct coefficients.  To avoid this, we always need to make sure that categorical variables leave one out.  This one that gets left out is known as the reference variable. "
   ]
  },
  {
   "cell_type": "code",
   "execution_count": 14,
   "metadata": {},
   "outputs": [
    {
     "name": "stdout",
     "output_type": "stream",
     "text": [
      "                            OLS Regression Results                            \n",
      "==============================================================================\n",
      "Dep. Variable:                   WAGP   R-squared:                       0.262\n",
      "Model:                            OLS   Adj. R-squared:                  0.262\n",
      "Method:                 Least Squares   F-statistic:                     1550.\n",
      "Date:                Sun, 21 Mar 2021   Prob (F-statistic):               0.00\n",
      "Time:                        22:14:51   Log-Likelihood:            -1.3153e+06\n",
      "No. Observations:              108994   AIC:                         2.631e+06\n",
      "Df Residuals:                  108968   BIC:                         2.631e+06\n",
      "Df Model:                          25                                         \n",
      "Covariance Type:            nonrobust                                         \n",
      "===================================================================================\n",
      "                      coef    std err          t      P>|t|      [0.025      0.975]\n",
      "-----------------------------------------------------------------------------------\n",
      "Intercept       -3.999e+04   1797.345    -22.248      0.000   -4.35e+04   -3.65e+04\n",
      "C(SCHL)[T.2.0]    665.7820   1.14e+04      0.058      0.953   -2.17e+04     2.3e+04\n",
      "C(SCHL)[T.3.0]  -5581.7750   1.73e+04     -0.323      0.747   -3.95e+04    2.83e+04\n",
      "C(SCHL)[T.4.0]    877.2906   1.34e+04      0.065      0.948   -2.55e+04    2.72e+04\n",
      "C(SCHL)[T.5.0]   1577.8937   9579.989      0.165      0.869   -1.72e+04    2.04e+04\n",
      "C(SCHL)[T.6.0]  -9618.6926   8013.088     -1.200      0.230   -2.53e+04    6086.845\n",
      "C(SCHL)[T.7.0]    477.8150   7762.900      0.062      0.951   -1.47e+04    1.57e+04\n",
      "C(SCHL)[T.8.0]  -7064.2708   5937.213     -1.190      0.234   -1.87e+04    4572.583\n",
      "C(SCHL)[T.9.0]  -6996.2532   3668.630     -1.907      0.057   -1.42e+04     194.210\n",
      "C(SCHL)[T.10.0] -1825.9323   3619.531     -0.504      0.614   -8920.162    5268.298\n",
      "C(SCHL)[T.11.0] -3700.1317   2180.294     -1.697      0.090   -7973.477     573.214\n",
      "C(SCHL)[T.12.0]   -51.5848   2114.428     -0.024      0.981   -4195.834    4092.665\n",
      "C(SCHL)[T.13.0]  2793.5770   1964.960      1.422      0.155   -1057.717    6644.871\n",
      "C(SCHL)[T.14.0]  5618.0938   1898.221      2.960      0.003    1897.609    9338.579\n",
      "C(SCHL)[T.15.0]  2230.9896   2091.824      1.067      0.286   -1868.955    6330.935\n",
      "C(SCHL)[T.16.0]  4226.9287   1736.252      2.435      0.015     823.899    7629.958\n",
      "C(SCHL)[T.17.0]  1068.7174   1805.414      0.592      0.554   -2469.868    4607.302\n",
      "C(SCHL)[T.18.0]  7077.8113   1776.526      3.984      0.000    3595.845    1.06e+04\n",
      "C(SCHL)[T.19.0]  9213.8212   1746.623      5.275      0.000    5790.465    1.26e+04\n",
      "C(SCHL)[T.20.0]  1.326e+04   1768.396      7.501      0.000    9797.931    1.67e+04\n",
      "C(SCHL)[T.21.0]   2.96e+04   1744.260     16.969      0.000    2.62e+04     3.3e+04\n",
      "C(SCHL)[T.22.0]    3.3e+04   1772.530     18.618      0.000    2.95e+04    3.65e+04\n",
      "C(SCHL)[T.23.0]   8.01e+04   1907.183     42.000      0.000    7.64e+04    8.38e+04\n",
      "C(SCHL)[T.24.0]  5.644e+04   2055.392     27.459      0.000    5.24e+04    6.05e+04\n",
      "WKHP             1218.1423     10.061    121.070      0.000    1198.422    1237.863\n",
      "AGEP              414.3256      8.567     48.364      0.000     397.535     431.117\n",
      "==============================================================================\n",
      "Omnibus:                    94424.237   Durbin-Watson:                   1.951\n",
      "Prob(Omnibus):                  0.000   Jarque-Bera (JB):          3638054.585\n",
      "Skew:                           4.077   Prob(JB):                         0.00\n",
      "Kurtosis:                      30.104   Cond. No.                     8.02e+03\n",
      "==============================================================================\n",
      "\n",
      "Notes:\n",
      "[1] Standard Errors assume that the covariance matrix of the errors is correctly specified.\n",
      "[2] The condition number is large, 8.02e+03. This might indicate that there are\n",
      "strong multicollinearity or other numerical problems.\n"
     ]
    }
   ],
   "source": [
    "# We can do all categories, minus one, for a variable by including it in a C() command\n",
    "\n",
    "mod = smf.ols(formula=\"WAGP \\\n",
    "                       ~ WKHP \\\n",
    "                       + AGEP \\\n",
    "                       + C(SCHL)\", \n",
    "              data=df)\n",
    "res = mod.fit()\n",
    "print(res.summary())"
   ]
  },
  {
   "cell_type": "code",
   "execution_count": 15,
   "metadata": {},
   "outputs": [
    {
     "data": {
      "text/plain": [
       "15-No HS diploma        64485\n",
       "16-HS or GED            58910\n",
       "18-Some college         39680\n",
       "21-Bachelors degree     24297\n",
       "20-Associates degree    13432\n",
       "22-Masters degree       12325\n",
       "nan                      6910\n",
       "23-Prof grad degree      3249\n",
       "24-Doctorate degree      1752\n",
       "Name: SCHL2, dtype: int64"
      ]
     },
     "execution_count": 15,
     "metadata": {},
     "output_type": "execute_result"
    }
   ],
   "source": [
    "# many of these are not significant, so let's drop some\n",
    "def recode_school(schl): \n",
    "    if schl<=15: \n",
    "        return '15-No HS diploma'\n",
    "    elif schl==16 or schl==17: \n",
    "        return '16-HS or GED'\n",
    "    elif schl==18 or schl==19: \n",
    "        return '18-Some college'\n",
    "    elif schl==20: \n",
    "        return '20-Associates degree'\n",
    "    elif schl==21: \n",
    "        return '21-Bachelors degree'\n",
    "    elif schl==22: \n",
    "        return '22-Masters degree'\n",
    "    elif schl==23: \n",
    "        return '23-Prof grad degree'\n",
    "    elif schl==24: \n",
    "        return '24-Doctorate degree'\n",
    "    else: \n",
    "        return str(schl)\n",
    "\n",
    "df['SCHL2'] = df['SCHL'].apply(recode_school)\n",
    "df['SCHL2'].value_counts()"
   ]
  },
  {
   "cell_type": "code",
   "execution_count": 23,
   "metadata": {},
   "outputs": [
    {
     "name": "stdout",
     "output_type": "stream",
     "text": [
      "                            OLS Regression Results                            \n",
      "==============================================================================\n",
      "Dep. Variable:                   WAGP   R-squared:                       0.262\n",
      "Model:                            OLS   Adj. R-squared:                  0.262\n",
      "Method:                 Least Squares   F-statistic:                     4291.\n",
      "Date:                Thu, 18 Mar 2021   Prob (F-statistic):               0.00\n",
      "Time:                        13:46:31   Log-Likelihood:            -1.3154e+06\n",
      "No. Observations:              108994   AIC:                         2.631e+06\n",
      "Df Residuals:                  108984   BIC:                         2.631e+06\n",
      "Df Model:                           9                                         \n",
      "Covariance Type:            nonrobust                                         \n",
      "====================================================================================================\n",
      "                                       coef    std err          t      P>|t|      [0.025      0.975]\n",
      "----------------------------------------------------------------------------------------------------\n",
      "Intercept                        -3.751e+04    627.889    -59.735      0.000   -3.87e+04   -3.63e+04\n",
      "C(SCHL2)[T.16-HS or GED]          1779.3689    502.237      3.543      0.000     794.992    2763.746\n",
      "C(SCHL2)[T.18-Some college]       6586.5993    511.471     12.878      0.000    5584.123    7589.076\n",
      "C(SCHL2)[T.20-Associates degree]  1.138e+04    614.267     18.522      0.000    1.02e+04    1.26e+04\n",
      "C(SCHL2)[T.21-Bachelors degree]   2.771e+04    541.273     51.198      0.000    2.67e+04    2.88e+04\n",
      "C(SCHL2)[T.22-Masters degree]     3.115e+04    629.357     49.491      0.000    2.99e+04    3.24e+04\n",
      "C(SCHL2)[T.23-Prof grad degree]   7.829e+04    947.543     82.625      0.000    7.64e+04    8.01e+04\n",
      "C(SCHL2)[T.24-Doctorate degree]   5.463e+04   1218.528     44.829      0.000    5.22e+04     5.7e+04\n",
      "WKHP                              1213.0719     10.034    120.898      0.000    1193.406    1232.738\n",
      "AGEP                               405.1632      8.504     47.645      0.000     388.496     421.830\n",
      "==============================================================================\n",
      "Omnibus:                    94404.095   Durbin-Watson:                   1.951\n",
      "Prob(Omnibus):                  0.000   Jarque-Bera (JB):          3631396.109\n",
      "Skew:                           4.076   Prob(JB):                         0.00\n",
      "Kurtosis:                      30.077   Cond. No.                         661.\n",
      "==============================================================================\n",
      "\n",
      "Notes:\n",
      "[1] Standard Errors assume that the covariance matrix of the errors is correctly specified.\n"
     ]
    }
   ],
   "source": [
    "# We can do all categories, minus one, for a variable by including it in a C() command\n",
    "\n",
    "mod = smf.ols(formula=\"WAGP \\\n",
    "                       ~ WKHP \\\n",
    "                       + AGEP \\\n",
    "                       + C(SCHL2)\", \n",
    "              data=df)\n",
    "res = mod.fit()\n",
    "print(res.summary())"
   ]
  },
  {
   "cell_type": "code",
   "execution_count": 16,
   "metadata": {},
   "outputs": [
    {
     "data": {
      "text/plain": [
       "0    1800\n",
       "1    1800\n",
       "2    1800\n",
       "3    1800\n",
       "4    2500\n",
       "Name: PUMA, dtype: int64"
      ]
     },
     "execution_count": 16,
     "metadata": {},
     "output_type": "execute_result"
    }
   ],
   "source": [
    "df['PUMA'].head() # a puma is a location "
   ]
  },
  {
   "cell_type": "code",
   "execution_count": 17,
   "metadata": {},
   "outputs": [
    {
     "name": "stdout",
     "output_type": "stream",
     "text": [
      "                            OLS Regression Results                            \n",
      "==============================================================================\n",
      "Dep. Variable:                   WAGP   R-squared:                       0.272\n",
      "Model:                            OLS   Adj. R-squared:                  0.272\n",
      "Method:                 Least Squares   F-statistic:                     4080.\n",
      "Date:                Sun, 21 Mar 2021   Prob (F-statistic):               0.00\n",
      "Time:                        22:19:40   Log-Likelihood:            -1.3146e+06\n",
      "No. Observations:              108994   AIC:                         2.629e+06\n",
      "Df Residuals:                  108983   BIC:                         2.629e+06\n",
      "Df Model:                          10                                         \n",
      "Covariance Type:            nonrobust                                         \n",
      "====================================================================================================\n",
      "                                       coef    std err          t      P>|t|      [0.025      0.975]\n",
      "----------------------------------------------------------------------------------------------------\n",
      "Intercept                         -3.06e+04    646.596    -47.325      0.000   -3.19e+04   -2.93e+04\n",
      "C(SCHL2)[T.16-HS or GED]          2635.4550    499.020      5.281      0.000    1657.382    3613.528\n",
      "C(SCHL2)[T.18-Some college]       8207.6787    509.334     16.115      0.000    7209.391    9205.967\n",
      "C(SCHL2)[T.20-Associates degree]  1.421e+04    613.835     23.145      0.000     1.3e+04    1.54e+04\n",
      "C(SCHL2)[T.21-Bachelors degree]   2.969e+04    539.577     55.032      0.000    2.86e+04    3.08e+04\n",
      "C(SCHL2)[T.22-Masters degree]     3.415e+04    629.222     54.277      0.000    3.29e+04    3.54e+04\n",
      "C(SCHL2)[T.23-Prof grad degree]   7.984e+04    941.405     84.808      0.000     7.8e+04    8.17e+04\n",
      "C(SCHL2)[T.24-Doctorate degree]   5.614e+04   1210.206     46.388      0.000    5.38e+04    5.85e+04\n",
      "C(SEX)[T.2]                      -1.055e+04    262.696    -40.154      0.000   -1.11e+04      -1e+04\n",
      "WKHP                              1123.2215     10.209    110.025      0.000    1103.213    1143.231\n",
      "AGEP                               406.1043      8.442     48.108      0.000     389.559     422.650\n",
      "==============================================================================\n",
      "Omnibus:                    93960.435   Durbin-Watson:                   1.940\n",
      "Prob(Omnibus):                  0.000   Jarque-Bera (JB):          3619954.898\n",
      "Skew:                           4.044   Prob(JB):                         0.00\n",
      "Kurtosis:                      30.050   Cond. No.                         662.\n",
      "==============================================================================\n",
      "\n",
      "Notes:\n",
      "[1] Standard Errors assume that the covariance matrix of the errors is correctly specified.\n"
     ]
    }
   ],
   "source": [
    "# add sex \n",
    "'''\n",
    "SEX 1\n",
    "Sex\n",
    "1 .Male\n",
    "2 .Female\n",
    "'''\n",
    "\n",
    "mod = smf.ols(formula=\"WAGP \\\n",
    "                       ~ WKHP \\\n",
    "                       + AGEP \\\n",
    "                       + C(SCHL2) \\\n",
    "                       + C(SEX)\", \n",
    "              data=df)\n",
    "res = mod.fit()\n",
    "print(res.summary())"
   ]
  },
  {
   "cell_type": "markdown",
   "metadata": {},
   "source": [
    "### Confounding factors\n",
    "\n",
    "It looks like there is a $11,000 penalty for being a woman.  Why is that?  \n",
    "\n",
    "First, we want to make sure that we are measuring the effect of sex, and not the effect of something else that sex is correlated with.  For example, maybe we suspect that women earn less because they tend to work fewer hours or are younger.  Let's start by looking at the data categorically..."
   ]
  },
  {
   "cell_type": "code",
   "execution_count": 18,
   "metadata": {},
   "outputs": [
    {
     "data": {
      "text/html": [
       "<div>\n",
       "<style scoped>\n",
       "    .dataframe tbody tr th:only-of-type {\n",
       "        vertical-align: middle;\n",
       "    }\n",
       "\n",
       "    .dataframe tbody tr th {\n",
       "        vertical-align: top;\n",
       "    }\n",
       "\n",
       "    .dataframe thead th {\n",
       "        text-align: right;\n",
       "    }\n",
       "</style>\n",
       "<table border=\"1\" class=\"dataframe\">\n",
       "  <thead>\n",
       "    <tr style=\"text-align: right;\">\n",
       "      <th></th>\n",
       "      <th>WAGP</th>\n",
       "      <th>WKHP</th>\n",
       "      <th>AGEP</th>\n",
       "    </tr>\n",
       "    <tr>\n",
       "      <th>SEX</th>\n",
       "      <th></th>\n",
       "      <th></th>\n",
       "      <th></th>\n",
       "    </tr>\n",
       "  </thead>\n",
       "  <tbody>\n",
       "    <tr>\n",
       "      <th>1</th>\n",
       "      <td>29101.285191</td>\n",
       "      <td>40.788080</td>\n",
       "      <td>39.882748</td>\n",
       "    </tr>\n",
       "    <tr>\n",
       "      <th>2</th>\n",
       "      <td>17147.404580</td>\n",
       "      <td>35.513995</td>\n",
       "      <td>42.612824</td>\n",
       "    </tr>\n",
       "  </tbody>\n",
       "</table>\n",
       "</div>"
      ],
      "text/plain": [
       "             WAGP       WKHP       AGEP\n",
       "SEX                                    \n",
       "1    29101.285191  40.788080  39.882748\n",
       "2    17147.404580  35.513995  42.612824"
      ]
     },
     "execution_count": 18,
     "metadata": {},
     "output_type": "execute_result"
    }
   ],
   "source": [
    "# look at the average values\n",
    "df[['SEX', 'WAGP', 'WKHP', 'AGEP']].groupby('SEX').mean()"
   ]
  },
  {
   "cell_type": "markdown",
   "metadata": {},
   "source": [
    "Yes, this is true for hours worked at least, but it is not the whole story.  The total wage gap is $15,000.  That is made up of several components. \n",
    "\n",
    "Sometimes it is useful to look at pair-plots to see the relationships. "
   ]
  },
  {
   "cell_type": "code",
   "execution_count": 19,
   "metadata": {},
   "outputs": [
    {
     "data": {
      "text/plain": [
       "<seaborn.axisgrid.PairGrid at 0x1bbaa82ddf0>"
      ]
     },
     "execution_count": 19,
     "metadata": {},
     "output_type": "execute_result"
    },
    {
     "data": {
      "image/png": "[encoded data removed]",
      "text/plain": [
       "<Figure size 720x720 with 20 Axes>"
      ]
     },
     "metadata": {
      "needs_background": "light"
     },
     "output_type": "display_data"
    }
   ],
   "source": [
    "# for a select set of variables\n",
    "sns.pairplot(df[['SEX', 'WAGP', 'WKHP', 'AGEP']])"
   ]
  },
  {
   "cell_type": "code",
   "execution_count": 20,
   "metadata": {},
   "outputs": [
    {
     "name": "stdout",
     "output_type": "stream",
     "text": [
      "                            OLS Regression Results                            \n",
      "==============================================================================\n",
      "Dep. Variable:                   WAGP   R-squared:                       0.177\n",
      "Model:                            OLS   Adj. R-squared:                  0.177\n",
      "Method:                 Least Squares   F-statistic:                     4455.\n",
      "Date:                Sun, 21 Mar 2021   Prob (F-statistic):               0.00\n",
      "Time:                        22:26:20   Log-Likelihood:            -2.2306e+06\n",
      "No. Observations:              186319   AIC:                         4.461e+06\n",
      "Df Residuals:                  186309   BIC:                         4.461e+06\n",
      "Df Model:                           9                                         \n",
      "Covariance Type:            nonrobust                                         \n",
      "====================================================================================================\n",
      "                                       coef    std err          t      P>|t|      [0.025      0.975]\n",
      "----------------------------------------------------------------------------------------------------\n",
      "Intercept                         1.802e+04    306.470     58.783      0.000    1.74e+04    1.86e+04\n",
      "C(SCHL2)[T.16-HS or GED]          1.151e+04    265.323     43.366      0.000     1.1e+04     1.2e+04\n",
      "C(SCHL2)[T.18-Some college]       1.555e+04    286.207     54.335      0.000     1.5e+04    1.61e+04\n",
      "C(SCHL2)[T.20-Associates degree]  2.538e+04    393.287     64.522      0.000    2.46e+04    2.61e+04\n",
      "C(SCHL2)[T.21-Bachelors degree]   3.901e+04    324.535    120.193      0.000    3.84e+04    3.96e+04\n",
      "C(SCHL2)[T.22-Masters degree]     4.295e+04    406.316    105.701      0.000    4.22e+04    4.37e+04\n",
      "C(SCHL2)[T.23-Prof grad degree]   8.584e+04    705.081    121.740      0.000    8.45e+04    8.72e+04\n",
      "C(SCHL2)[T.24-Doctorate degree]    6.59e+04    939.693     70.128      0.000    6.41e+04    6.77e+04\n",
      "C(SEX)[T.2]                      -1.276e+04    178.636    -71.412      0.000   -1.31e+04   -1.24e+04\n",
      "AGEP                              -151.4417      4.594    -32.964      0.000    -160.446    -142.437\n",
      "==============================================================================\n",
      "Omnibus:                   171557.829   Durbin-Watson:                   1.952\n",
      "Prob(Omnibus):                  0.000   Jarque-Bera (JB):          8990235.943\n",
      "Skew:                           4.373   Prob(JB):                         0.00\n",
      "Kurtosis:                      35.887   Cond. No.                         562.\n",
      "==============================================================================\n",
      "\n",
      "Notes:\n",
      "[1] Standard Errors assume that the covariance matrix of the errors is correctly specified.\n"
     ]
    }
   ],
   "source": [
    "# if we were to leave out the hours worked, we would get a different coefficient on sex\n",
    "\n",
    "mod = smf.ols(formula=\"WAGP \\\n",
    "                       ~ AGEP \\\n",
    "                       + C(SCHL2) \\\n",
    "                       + C(SEX)\", \n",
    "              data=df)\n",
    "res = mod.fit()\n",
    "print(res.summary())"
   ]
  },
  {
   "cell_type": "markdown",
   "metadata": {},
   "source": [
    "For this reason, regression provides an important tool to test the net effects of different factors.  If we wanted, we could also interact sex with the type of degree.  "
   ]
  },
  {
   "cell_type": "code",
   "execution_count": 21,
   "metadata": {},
   "outputs": [
    {
     "name": "stdout",
     "output_type": "stream",
     "text": [
      "                            OLS Regression Results                            \n",
      "==============================================================================\n",
      "Dep. Variable:                   WAGP   R-squared:                       0.274\n",
      "Model:                            OLS   Adj. R-squared:                  0.274\n",
      "Method:                 Least Squares   F-statistic:                     3734.\n",
      "Date:                Sun, 21 Mar 2021   Prob (F-statistic):               0.00\n",
      "Time:                        22:32:09   Log-Likelihood:            -1.3145e+06\n",
      "No. Observations:              108994   AIC:                         2.629e+06\n",
      "Df Residuals:                  108982   BIC:                         2.629e+06\n",
      "Df Model:                          11                                         \n",
      "Covariance Type:            nonrobust                                         \n",
      "====================================================================================================\n",
      "                                       coef    std err          t      P>|t|      [0.025      0.975]\n",
      "----------------------------------------------------------------------------------------------------\n",
      "Intercept                        -3.542e+04    731.883    -48.401      0.000   -3.69e+04    -3.4e+04\n",
      "C(SCHL2)[T.16-HS or GED]          2812.9381    498.734      5.640      0.000    1835.427    3790.449\n",
      "C(SCHL2)[T.18-Some college]       8228.5299    508.880     16.170      0.000    7231.132    9225.927\n",
      "C(SCHL2)[T.20-Associates degree]  1.435e+04    613.363     23.388      0.000    1.31e+04    1.55e+04\n",
      "C(SCHL2)[T.21-Bachelors degree]   2.958e+04    539.157     54.858      0.000    2.85e+04    3.06e+04\n",
      "C(SCHL2)[T.22-Masters degree]     3.424e+04    628.689     54.463      0.000     3.3e+04    3.55e+04\n",
      "C(SCHL2)[T.23-Prof grad degree]   7.951e+04    940.859     84.504      0.000    7.77e+04    8.14e+04\n",
      "C(SCHL2)[T.24-Doctorate degree]    5.59e+04   1209.241     46.228      0.000    5.35e+04    5.83e+04\n",
      "C(SEX)[T.2]                       -604.4493    756.112     -0.799      0.424   -2086.419     877.520\n",
      "WKHP                              1124.3340     10.200    110.230      0.000    1104.342    1144.326\n",
      "AGE_MEN                            517.1296     11.568     44.704      0.000     494.457     539.803\n",
      "AGE_WOMEN                          283.5189     12.147     23.341      0.000     259.711     307.327\n",
      "==============================================================================\n",
      "Omnibus:                    93786.666   Durbin-Watson:                   1.939\n",
      "Prob(Omnibus):                  0.000   Jarque-Bera (JB):          3612292.032\n",
      "Skew:                           4.032   Prob(JB):                         0.00\n",
      "Kurtosis:                      30.026   Cond. No.                         565.\n",
      "==============================================================================\n",
      "\n",
      "Notes:\n",
      "[1] Standard Errors assume that the covariance matrix of the errors is correctly specified.\n"
     ]
    }
   ],
   "source": [
    "# we can also interact terms\n",
    "\n",
    "df['AGE_WOMEN'] = df['AGEP'] * (df['SEX'] - 1)\n",
    "df['AGE_MEN']   = df['AGEP'] * (2-df['SEX'])\n",
    "\n",
    "mod = smf.ols(formula=\"WAGP \\\n",
    "                       ~ WKHP \\\n",
    "                       + AGE_MEN \\\n",
    "                       + AGE_WOMEN \\\n",
    "                       + C(SCHL2) \\\n",
    "                       + C(SEX)\", \n",
    "              data=df)\n",
    "res = mod.fit()\n",
    "print(res.summary())"
   ]
  },
  {
   "cell_type": "code",
   "execution_count": 118,
   "metadata": {},
   "outputs": [
    {
     "data": {
      "text/plain": [
       "0         0\n",
       "1         1\n",
       "4         0\n",
       "5         0\n",
       "8         1\n",
       "         ..\n",
       "225031    0\n",
       "225034    1\n",
       "225035    0\n",
       "225036    1\n",
       "225039    1\n",
       "Name: SEX, Length: 108994, dtype: int64"
      ]
     },
     "execution_count": 118,
     "metadata": {},
     "output_type": "execute_result"
    }
   ],
   "source": [
    "(df['SEX'] - 1)"
   ]
  },
  {
   "cell_type": "code",
   "execution_count": 22,
   "metadata": {},
   "outputs": [
    {
     "name": "stdout",
     "output_type": "stream",
     "text": [
      "                            OLS Regression Results                            \n",
      "==============================================================================\n",
      "Dep. Variable:                   WAGP   R-squared:                       0.274\n",
      "Model:                            OLS   Adj. R-squared:                  0.274\n",
      "Method:                 Least Squares   F-statistic:                     3734.\n",
      "Date:                Sun, 21 Mar 2021   Prob (F-statistic):               0.00\n",
      "Time:                        22:32:41   Log-Likelihood:            -1.3145e+06\n",
      "No. Observations:              108994   AIC:                         2.629e+06\n",
      "Df Residuals:                  108982   BIC:                         2.629e+06\n",
      "Df Model:                          11                                         \n",
      "Covariance Type:            nonrobust                                         \n",
      "====================================================================================================\n",
      "                                       coef    std err          t      P>|t|      [0.025      0.975]\n",
      "----------------------------------------------------------------------------------------------------\n",
      "Intercept                        -3.542e+04    731.883    -48.401      0.000   -3.69e+04    -3.4e+04\n",
      "C(SCHL2)[T.16-HS or GED]          2812.9381    498.734      5.640      0.000    1835.427    3790.449\n",
      "C(SCHL2)[T.18-Some college]       8228.5299    508.880     16.170      0.000    7231.132    9225.927\n",
      "C(SCHL2)[T.20-Associates degree]  1.435e+04    613.363     23.388      0.000    1.31e+04    1.55e+04\n",
      "C(SCHL2)[T.21-Bachelors degree]   2.958e+04    539.157     54.858      0.000    2.85e+04    3.06e+04\n",
      "C(SCHL2)[T.22-Masters degree]     3.424e+04    628.689     54.463      0.000     3.3e+04    3.55e+04\n",
      "C(SCHL2)[T.23-Prof grad degree]   7.951e+04    940.859     84.504      0.000    7.77e+04    8.14e+04\n",
      "C(SCHL2)[T.24-Doctorate degree]    5.59e+04   1209.241     46.228      0.000    5.35e+04    5.83e+04\n",
      "C(SEX)[T.2]                       -604.4493    756.112     -0.799      0.424   -2086.419     877.520\n",
      "WKHP                              1124.3340     10.200    110.230      0.000    1104.342    1144.326\n",
      "AGEP                               517.1296     11.568     44.704      0.000     494.457     539.803\n",
      "AGE_WOMEN                         -233.6107     16.659    -14.023      0.000    -266.262    -200.959\n",
      "==============================================================================\n",
      "Omnibus:                    93786.666   Durbin-Watson:                   1.939\n",
      "Prob(Omnibus):                  0.000   Jarque-Bera (JB):          3612292.032\n",
      "Skew:                           4.032   Prob(JB):                         0.00\n",
      "Kurtosis:                      30.026   Cond. No.                         707.\n",
      "==============================================================================\n",
      "\n",
      "Notes:\n",
      "[1] Standard Errors assume that the covariance matrix of the errors is correctly specified.\n"
     ]
    }
   ],
   "source": [
    "# we can get the same thing, with a slightly different specification\n",
    "# this tells us whether the AGEP and AGE_WOMEN coefficients are significantly different from each other\n",
    "\n",
    "mod = smf.ols(formula=\"WAGP \\\n",
    "                       ~ WKHP \\\n",
    "                       + AGEP \\\n",
    "                       + AGE_WOMEN \\\n",
    "                       + C(SCHL2) \\\n",
    "                       + C(SEX)\", \n",
    "              data=df)\n",
    "res = mod.fit()\n",
    "print(res.summary())"
   ]
  },
  {
   "cell_type": "markdown",
   "metadata": {},
   "source": [
    "### Homework\n",
    "\n",
    "1. Calculate the value of a Civil Engineering degree and a degree in Transportation Sciences And Technologies, relative to a college degree in general. \n",
    "\n",
    "2. Calculate the value of working in Architectural, Engineering, And Related Services versus wroking in transportation (anything starting in TRN).  \n",
    "\n",
    "3. Calculate the wage difference between male and female civil engineers\n",
    "\n",
    "4. Use these data to determine what you should expect your starting salary to be for a full-time job in your career of choice after you graduate.  These may be a useful observation point for negotiations.  Who can come up with the highest (defensible) value?  What other data could you use to make your case? "
   ]
  },
  {
   "cell_type": "code",
   "execution_count": null,
   "metadata": {},
   "outputs": [],
   "source": []
  },
  {
   "cell_type": "code",
   "execution_count": null,
   "metadata": {},
   "outputs": [],
   "source": [
    "import pandas as pd\n",
    "import seaborn as sns\n",
    "import numpy as np\n",
    "import statsmodels.formula.api as smf\n",
    "\n",
    "# this allows plots to appear directly in the notebook\n",
    "%matplotlib inline"
   ]
  },
  {
   "cell_type": "code",
   "execution_count": 23,
   "metadata": {
    "scrolled": true
   },
   "outputs": [
    {
     "name": "stderr",
     "output_type": "stream",
     "text": [
      "C:\\Users\\aham223\\Anaconda3\\lib\\site-packages\\IPython\\core\\interactiveshell.py:3146: DtypeWarning: Columns (1) have mixed types.Specify dtype option on import or set low_memory=False.\n",
      "  has_raised = await self.run_ast_nodes(code_ast.body, cell_name,\n"
     ]
    },
    {
     "data": {
      "text/html": [
       "<div>\n",
       "<style scoped>\n",
       "    .dataframe tbody tr th:only-of-type {\n",
       "        vertical-align: middle;\n",
       "    }\n",
       "\n",
       "    .dataframe tbody tr th {\n",
       "        vertical-align: top;\n",
       "    }\n",
       "\n",
       "    .dataframe thead th {\n",
       "        text-align: right;\n",
       "    }\n",
       "</style>\n",
       "<table border=\"1\" class=\"dataframe\">\n",
       "  <thead>\n",
       "    <tr style=\"text-align: right;\">\n",
       "      <th></th>\n",
       "      <th>RT</th>\n",
       "      <th>SERIALNO</th>\n",
       "      <th>DIVISION</th>\n",
       "      <th>SPORDER</th>\n",
       "      <th>PUMA</th>\n",
       "      <th>REGION</th>\n",
       "      <th>ST</th>\n",
       "      <th>ADJINC</th>\n",
       "      <th>PWGTP</th>\n",
       "      <th>AGEP</th>\n",
       "      <th>...</th>\n",
       "      <th>PWGTP71</th>\n",
       "      <th>PWGTP72</th>\n",
       "      <th>PWGTP73</th>\n",
       "      <th>PWGTP74</th>\n",
       "      <th>PWGTP75</th>\n",
       "      <th>PWGTP76</th>\n",
       "      <th>PWGTP77</th>\n",
       "      <th>PWGTP78</th>\n",
       "      <th>PWGTP79</th>\n",
       "      <th>PWGTP80</th>\n",
       "    </tr>\n",
       "  </thead>\n",
       "  <tbody>\n",
       "    <tr>\n",
       "      <th>0</th>\n",
       "      <td>P</td>\n",
       "      <td>2014000000017</td>\n",
       "      <td>6</td>\n",
       "      <td>1</td>\n",
       "      <td>1800</td>\n",
       "      <td>3</td>\n",
       "      <td>21</td>\n",
       "      <td>1070673</td>\n",
       "      <td>13</td>\n",
       "      <td>42</td>\n",
       "      <td>...</td>\n",
       "      <td>14</td>\n",
       "      <td>5</td>\n",
       "      <td>5</td>\n",
       "      <td>32</td>\n",
       "      <td>15</td>\n",
       "      <td>10</td>\n",
       "      <td>11</td>\n",
       "      <td>15</td>\n",
       "      <td>11</td>\n",
       "      <td>26</td>\n",
       "    </tr>\n",
       "    <tr>\n",
       "      <th>1</th>\n",
       "      <td>P</td>\n",
       "      <td>2014000000017</td>\n",
       "      <td>6</td>\n",
       "      <td>2</td>\n",
       "      <td>1800</td>\n",
       "      <td>3</td>\n",
       "      <td>21</td>\n",
       "      <td>1070673</td>\n",
       "      <td>14</td>\n",
       "      <td>47</td>\n",
       "      <td>...</td>\n",
       "      <td>12</td>\n",
       "      <td>4</td>\n",
       "      <td>4</td>\n",
       "      <td>25</td>\n",
       "      <td>22</td>\n",
       "      <td>15</td>\n",
       "      <td>14</td>\n",
       "      <td>13</td>\n",
       "      <td>15</td>\n",
       "      <td>29</td>\n",
       "    </tr>\n",
       "    <tr>\n",
       "      <th>2</th>\n",
       "      <td>P</td>\n",
       "      <td>2014000000017</td>\n",
       "      <td>6</td>\n",
       "      <td>3</td>\n",
       "      <td>1800</td>\n",
       "      <td>3</td>\n",
       "      <td>21</td>\n",
       "      <td>1070673</td>\n",
       "      <td>13</td>\n",
       "      <td>13</td>\n",
       "      <td>...</td>\n",
       "      <td>10</td>\n",
       "      <td>3</td>\n",
       "      <td>4</td>\n",
       "      <td>24</td>\n",
       "      <td>21</td>\n",
       "      <td>11</td>\n",
       "      <td>13</td>\n",
       "      <td>13</td>\n",
       "      <td>11</td>\n",
       "      <td>25</td>\n",
       "    </tr>\n",
       "    <tr>\n",
       "      <th>3</th>\n",
       "      <td>P</td>\n",
       "      <td>2014000000017</td>\n",
       "      <td>6</td>\n",
       "      <td>4</td>\n",
       "      <td>1800</td>\n",
       "      <td>3</td>\n",
       "      <td>21</td>\n",
       "      <td>1070673</td>\n",
       "      <td>13</td>\n",
       "      <td>8</td>\n",
       "      <td>...</td>\n",
       "      <td>11</td>\n",
       "      <td>3</td>\n",
       "      <td>3</td>\n",
       "      <td>24</td>\n",
       "      <td>22</td>\n",
       "      <td>12</td>\n",
       "      <td>13</td>\n",
       "      <td>13</td>\n",
       "      <td>13</td>\n",
       "      <td>25</td>\n",
       "    </tr>\n",
       "    <tr>\n",
       "      <th>4</th>\n",
       "      <td>P</td>\n",
       "      <td>2014000000076</td>\n",
       "      <td>6</td>\n",
       "      <td>1</td>\n",
       "      <td>2500</td>\n",
       "      <td>3</td>\n",
       "      <td>21</td>\n",
       "      <td>1070673</td>\n",
       "      <td>43</td>\n",
       "      <td>43</td>\n",
       "      <td>...</td>\n",
       "      <td>11</td>\n",
       "      <td>76</td>\n",
       "      <td>46</td>\n",
       "      <td>68</td>\n",
       "      <td>73</td>\n",
       "      <td>41</td>\n",
       "      <td>70</td>\n",
       "      <td>13</td>\n",
       "      <td>38</td>\n",
       "      <td>41</td>\n",
       "    </tr>\n",
       "  </tbody>\n",
       "</table>\n",
       "<p>5 rows × 286 columns</p>\n",
       "</div>"
      ],
      "text/plain": [
       "  RT       SERIALNO  DIVISION  SPORDER  PUMA  REGION  ST   ADJINC  PWGTP  \\\n",
       "0  P  2014000000017         6        1  1800       3  21  1070673     13   \n",
       "1  P  2014000000017         6        2  1800       3  21  1070673     14   \n",
       "2  P  2014000000017         6        3  1800       3  21  1070673     13   \n",
       "3  P  2014000000017         6        4  1800       3  21  1070673     13   \n",
       "4  P  2014000000076         6        1  2500       3  21  1070673     43   \n",
       "\n",
       "   AGEP  ...  PWGTP71  PWGTP72  PWGTP73  PWGTP74  PWGTP75  PWGTP76  PWGTP77  \\\n",
       "0    42  ...       14        5        5       32       15       10       11   \n",
       "1    47  ...       12        4        4       25       22       15       14   \n",
       "2    13  ...       10        3        4       24       21       11       13   \n",
       "3     8  ...       11        3        3       24       22       12       13   \n",
       "4    43  ...       11       76       46       68       73       41       70   \n",
       "\n",
       "   PWGTP78  PWGTP79  PWGTP80  \n",
       "0       15       11       26  \n",
       "1       13       15       29  \n",
       "2       13       11       25  \n",
       "3       13       13       25  \n",
       "4       13       38       41  \n",
       "\n",
       "[5 rows x 286 columns]"
      ]
     },
     "execution_count": 23,
     "metadata": {},
     "output_type": "execute_result"
    }
   ],
   "source": [
    "# get the data\n",
    "df = pd.read_csv('data/psam_p21.csv')\n",
    "df.head()"
   ]
  },
  {
   "cell_type": "code",
   "execution_count": 24,
   "metadata": {},
   "outputs": [
    {
     "data": {
      "text/plain": [
       "108994"
      ]
     },
     "execution_count": 24,
     "metadata": {},
     "output_type": "execute_result"
    }
   ],
   "source": [
    "# keep only the people who have worked within the last 12 months\n",
    "df = df[df['WKL']==1]\n",
    "len(df)"
   ]
  },
  {
   "cell_type": "code",
   "execution_count": null,
   "metadata": {},
   "outputs": [],
   "source": [
    "# Code for Civil engineering FOD1P=2406\n",
    "# code for Transportation science and Technologies FOD1P=5901"
   ]
  },
  {
   "cell_type": "code",
   "execution_count": 53,
   "metadata": {},
   "outputs": [],
   "source": [
    "# Is someone a college grad\n",
    "df['college_grad'] = df['SCHL'].apply(lambda x : x>=20)# to detect if I have a college degree or not "
   ]
  },
  {
   "cell_type": "code",
   "execution_count": 124,
   "metadata": {},
   "outputs": [
    {
     "data": {
      "text/plain": [
       "Others                                     108641\n",
       "Civil Engineering                             277\n",
       "Transportation Science and Technologies        76\n",
       "Name: degree, dtype: int64"
      ]
     },
     "execution_count": 124,
     "metadata": {},
     "output_type": "execute_result"
    }
   ],
   "source": [
    "# Select occupation as Civil Engineer or Transporation and science technologies \n",
    "def recode_degree(FOD1P): \n",
    "    if FOD1P==2406: \n",
    "        return \"Civil Engineering\"\n",
    "    elif FOD1P==5901: \n",
    "        return \"Transportation Science and Technologies\"\n",
    "    else: \n",
    "        return \"Others\"\n",
    "\n",
    "df['degree'] = df['FOD1P'].apply(recode_degree)\n",
    "df['degree'].value_counts()"
   ]
  },
  {
   "cell_type": "code",
   "execution_count": 81,
   "metadata": {},
   "outputs": [
    {
     "ename": "IndentationError",
     "evalue": "unexpected indent (<ipython-input-81-15853f25ab29>, line 3)",
     "output_type": "error",
     "traceback": [
      "\u001b[1;36m  File \u001b[1;32m\"<ipython-input-81-15853f25ab29>\"\u001b[1;36m, line \u001b[1;32m3\u001b[0m\n\u001b[1;33m    if FOD1P==2406 or  FOD1P==5901:\u001b[0m\n\u001b[1;37m    ^\u001b[0m\n\u001b[1;31mIndentationError\u001b[0m\u001b[1;31m:\u001b[0m unexpected indent\n"
     ]
    }
   ],
   "source": [
    "# Select occupation as Civil Engineer or Transporation and science technologies \n",
    "#def recode_degree(FOD1P): \n",
    "    if FOD1P==2406 or  FOD1P==5901:\n",
    "        return 1 \n",
    "    \n",
    "    else: \n",
    "        return 0\n",
    "\n",
    "#df['degree'] = df['FOD1P'].apply(recode_degree)\n",
    "#df['degree'].value_counts()"
   ]
  },
  {
   "cell_type": "code",
   "execution_count": 135,
   "metadata": {},
   "outputs": [
    {
     "name": "stdout",
     "output_type": "stream",
     "text": [
      "                            OLS Regression Results                            \n",
      "==============================================================================\n",
      "Dep. Variable:                   WAGP   R-squared:                       0.090\n",
      "Model:                            OLS   Adj. R-squared:                  0.090\n",
      "Method:                 Least Squares   F-statistic:                     3586.\n",
      "Date:                Mon, 22 Mar 2021   Prob (F-statistic):               0.00\n",
      "Time:                        00:35:13   Log-Likelihood:            -1.3268e+06\n",
      "No. Observations:              108994   AIC:                         2.654e+06\n",
      "Df Residuals:                  108990   BIC:                         2.654e+06\n",
      "Df Model:                           3                                         \n",
      "Covariance Type:            nonrobust                                         \n",
      "======================================================================================================\n",
      "                                         coef    std err          t      P>|t|      [0.025      0.975]\n",
      "------------------------------------------------------------------------------------------------------\n",
      "Intercept                           2.772e+04    180.398    153.673      0.000    2.74e+04    2.81e+04\n",
      "Civil_Engineer[T.True]              2.652e+04   2822.128      9.396      0.000     2.1e+04     3.2e+04\n",
      "Transportation_ScienceTech[T.True]  5.487e+04   5374.740     10.210      0.000    4.43e+04    6.54e+04\n",
      "college_grad[T.True]                2.972e+04    292.579    101.576      0.000    2.91e+04    3.03e+04\n",
      "==============================================================================\n",
      "Omnibus:                    93994.111   Durbin-Watson:                   1.970\n",
      "Prob(Omnibus):                  0.000   Jarque-Bera (JB):          3091306.001\n",
      "Skew:                           4.117   Prob(JB):                         0.00\n",
      "Kurtosis:                      27.757   Cond. No.                         41.2\n",
      "==============================================================================\n",
      "\n",
      "Notes:\n",
      "[1] Standard Errors assume that the covariance matrix of the errors is correctly specified.\n"
     ]
    }
   ],
   "source": [
    "# Question 1:  \n",
    "#Civil Engineering degree and a degree in Transportation Sciences And Technologies,\n",
    "#relative to a college degree in general\n",
    "df['Civil_Engineer'] = (df['degree']==\"Civil Engineering\")\n",
    "df['Transportation_ScienceTech']= (df['degree']==\"Transportation Science and Technologies\")\n",
    "\n",
    "mod = smf.ols(formula=\"WAGP \\\n",
    "                       ~Civil_Engineer\\\n",
    "                       +Transportation_ScienceTech\\\n",
    "                       +college_grad\", \n",
    "              data=df)\n",
    "res = mod.fit()\n",
    "print(res.summary())"
   ]
  },
  {
   "cell_type": "code",
   "execution_count": null,
   "metadata": {},
   "outputs": [],
   "source": [
    "#Question 2: North American Industry Classification System (NAICS) recode for 2018 and later based on 2017 NAICS codes\n",
    "#working in Architectural, Engineering, And Related Services \n",
    "#versus wroking in transportation\n",
    "#Code for Working in ArchitecturalEngineering, And Related ServicesNAICP=5413 \n",
    "# Code for working in transportaion NAICP=481,482,483,484,4853,485M,486,487,488,491,492,493\n"
   ]
  },
  {
   "cell_type": "code",
   "execution_count": 65,
   "metadata": {},
   "outputs": [
    {
     "data": {
      "text/plain": [
       "Others    103153\n",
       "TRN         5145\n",
       "AER          696\n",
       "Name: occupation, dtype: int64"
      ]
     },
     "execution_count": 65,
     "metadata": {},
     "output_type": "execute_result"
    }
   ],
   "source": [
    "def recode_occupation(NAICSP): \n",
    "    if NAICSP==\"5413\": \n",
    "        return \"AER\"\n",
    "    elif NAICSP in [\"481\",\"482\",\"483\",\"484\",\"4853\",\"485M\",\"486\",\"487\",\"488\",\"491\",\"492\",\"493\"]: \n",
    "        return \"TRN\"\n",
    "    else:\n",
    "        return \"Others\"\n",
    "\n",
    "df['occupation'] = df['NAICSP'].apply(recode_occupation)\n",
    "df['occupation'].value_counts()"
   ]
  },
  {
   "cell_type": "code",
   "execution_count": 128,
   "metadata": {},
   "outputs": [
    {
     "name": "stdout",
     "output_type": "stream",
     "text": [
      "                            OLS Regression Results                            \n",
      "==============================================================================\n",
      "Dep. Variable:                   WAGP   R-squared:                       0.001\n",
      "Model:                            OLS   Adj. R-squared:                  0.001\n",
      "Method:                 Least Squares   F-statistic:                     72.48\n",
      "Date:                Mon, 22 Mar 2021   Prob (F-statistic):           3.49e-32\n",
      "Time:                        00:28:17   Log-Likelihood:            -1.3318e+06\n",
      "No. Observations:              108994   AIC:                         2.664e+06\n",
      "Df Residuals:                  108991   BIC:                         2.664e+06\n",
      "Df Model:                           2                                         \n",
      "Covariance Type:            nonrobust                                         \n",
      "===============================================================================\n",
      "                  coef    std err          t      P>|t|      [0.025      0.975]\n",
      "-------------------------------------------------------------------------------\n",
      "Intercept    3.884e+04    152.677    254.372      0.000    3.85e+04    3.91e+04\n",
      "AER[T.True]  1.853e+04   1864.964      9.935      0.000    1.49e+04    2.22e+04\n",
      "TRN[T.True]  4887.1144    700.473      6.977      0.000    3514.197    6260.032\n",
      "==============================================================================\n",
      "Omnibus:                    94417.374   Durbin-Watson:                   1.913\n",
      "Prob(Omnibus):                  0.000   Jarque-Bera (JB):          2987499.561\n",
      "Skew:                           4.165   Prob(JB):                         0.00\n",
      "Kurtosis:                      27.258   Cond. No.                         12.6\n",
      "==============================================================================\n",
      "\n",
      "Notes:\n",
      "[1] Standard Errors assume that the covariance matrix of the errors is correctly specified.\n"
     ]
    }
   ],
   "source": [
    "df['TRN'] = (df['occupation']==\"TRN\")\n",
    "df['AER']= (df['occupation']==\"AER\")\n",
    "\n",
    "mod = smf.ols(formula=\"WAGP \\\n",
    "                       ~AER\\\n",
    "                        +TRN\", \n",
    "              data=df)\n",
    "res = mod.fit()\n",
    "print(res.summary())"
   ]
  },
  {
   "cell_type": "code",
   "execution_count": 152,
   "metadata": {},
   "outputs": [
    {
     "data": {
      "text/html": [
       "<div>\n",
       "<style scoped>\n",
       "    .dataframe tbody tr th:only-of-type {\n",
       "        vertical-align: middle;\n",
       "    }\n",
       "\n",
       "    .dataframe tbody tr th {\n",
       "        vertical-align: top;\n",
       "    }\n",
       "\n",
       "    .dataframe thead th {\n",
       "        text-align: right;\n",
       "    }\n",
       "</style>\n",
       "<table border=\"1\" class=\"dataframe\">\n",
       "  <thead>\n",
       "    <tr style=\"text-align: right;\">\n",
       "      <th></th>\n",
       "      <th>RT</th>\n",
       "      <th>SERIALNO</th>\n",
       "      <th>DIVISION</th>\n",
       "      <th>SPORDER</th>\n",
       "      <th>PUMA</th>\n",
       "      <th>REGION</th>\n",
       "      <th>ST</th>\n",
       "      <th>ADJINC</th>\n",
       "      <th>PWGTP</th>\n",
       "      <th>AGEP</th>\n",
       "      <th>...</th>\n",
       "      <th>PWGTP80</th>\n",
       "      <th>occupation</th>\n",
       "      <th>Civil_Engineer</th>\n",
       "      <th>Transp_Tech</th>\n",
       "      <th>college_grad</th>\n",
       "      <th>Transportaion_ScienceTech</th>\n",
       "      <th>degree</th>\n",
       "      <th>Transportation_ScienceTech</th>\n",
       "      <th>TRN</th>\n",
       "      <th>AER</th>\n",
       "    </tr>\n",
       "  </thead>\n",
       "  <tbody>\n",
       "    <tr>\n",
       "      <th>1845</th>\n",
       "      <td>P</td>\n",
       "      <td>2014000064796</td>\n",
       "      <td>6</td>\n",
       "      <td>4</td>\n",
       "      <td>1702</td>\n",
       "      <td>3</td>\n",
       "      <td>21</td>\n",
       "      <td>1070673</td>\n",
       "      <td>15</td>\n",
       "      <td>33</td>\n",
       "      <td>...</td>\n",
       "      <td>40</td>\n",
       "      <td>Others</td>\n",
       "      <td>True</td>\n",
       "      <td>1</td>\n",
       "      <td>True</td>\n",
       "      <td>NaN</td>\n",
       "      <td>Civil Engineering</td>\n",
       "      <td>False</td>\n",
       "      <td>False</td>\n",
       "      <td>False</td>\n",
       "    </tr>\n",
       "    <tr>\n",
       "      <th>2590</th>\n",
       "      <td>P</td>\n",
       "      <td>2014000087766</td>\n",
       "      <td>6</td>\n",
       "      <td>2</td>\n",
       "      <td>1600</td>\n",
       "      <td>3</td>\n",
       "      <td>21</td>\n",
       "      <td>1070673</td>\n",
       "      <td>25</td>\n",
       "      <td>37</td>\n",
       "      <td>...</td>\n",
       "      <td>36</td>\n",
       "      <td>AER</td>\n",
       "      <td>True</td>\n",
       "      <td>1</td>\n",
       "      <td>True</td>\n",
       "      <td>NaN</td>\n",
       "      <td>Civil Engineering</td>\n",
       "      <td>False</td>\n",
       "      <td>False</td>\n",
       "      <td>True</td>\n",
       "    </tr>\n",
       "    <tr>\n",
       "      <th>4174</th>\n",
       "      <td>P</td>\n",
       "      <td>2014000139560</td>\n",
       "      <td>6</td>\n",
       "      <td>3</td>\n",
       "      <td>1703</td>\n",
       "      <td>3</td>\n",
       "      <td>21</td>\n",
       "      <td>1070673</td>\n",
       "      <td>5</td>\n",
       "      <td>32</td>\n",
       "      <td>...</td>\n",
       "      <td>8</td>\n",
       "      <td>Others</td>\n",
       "      <td>True</td>\n",
       "      <td>1</td>\n",
       "      <td>True</td>\n",
       "      <td>NaN</td>\n",
       "      <td>Civil Engineering</td>\n",
       "      <td>False</td>\n",
       "      <td>False</td>\n",
       "      <td>False</td>\n",
       "    </tr>\n",
       "    <tr>\n",
       "      <th>6248</th>\n",
       "      <td>P</td>\n",
       "      <td>2014000211898</td>\n",
       "      <td>6</td>\n",
       "      <td>1</td>\n",
       "      <td>1500</td>\n",
       "      <td>3</td>\n",
       "      <td>21</td>\n",
       "      <td>1070673</td>\n",
       "      <td>44</td>\n",
       "      <td>61</td>\n",
       "      <td>...</td>\n",
       "      <td>53</td>\n",
       "      <td>Others</td>\n",
       "      <td>True</td>\n",
       "      <td>1</td>\n",
       "      <td>True</td>\n",
       "      <td>NaN</td>\n",
       "      <td>Civil Engineering</td>\n",
       "      <td>False</td>\n",
       "      <td>False</td>\n",
       "      <td>False</td>\n",
       "    </tr>\n",
       "    <tr>\n",
       "      <th>6928</th>\n",
       "      <td>P</td>\n",
       "      <td>2014000236400</td>\n",
       "      <td>6</td>\n",
       "      <td>1</td>\n",
       "      <td>2400</td>\n",
       "      <td>3</td>\n",
       "      <td>21</td>\n",
       "      <td>1070673</td>\n",
       "      <td>23</td>\n",
       "      <td>55</td>\n",
       "      <td>...</td>\n",
       "      <td>7</td>\n",
       "      <td>Others</td>\n",
       "      <td>True</td>\n",
       "      <td>1</td>\n",
       "      <td>True</td>\n",
       "      <td>NaN</td>\n",
       "      <td>Civil Engineering</td>\n",
       "      <td>False</td>\n",
       "      <td>False</td>\n",
       "      <td>False</td>\n",
       "    </tr>\n",
       "    <tr>\n",
       "      <th>6947</th>\n",
       "      <td>P</td>\n",
       "      <td>2014000236477</td>\n",
       "      <td>6</td>\n",
       "      <td>1</td>\n",
       "      <td>1901</td>\n",
       "      <td>3</td>\n",
       "      <td>21</td>\n",
       "      <td>1070673</td>\n",
       "      <td>8</td>\n",
       "      <td>21</td>\n",
       "      <td>...</td>\n",
       "      <td>6</td>\n",
       "      <td>Others</td>\n",
       "      <td>True</td>\n",
       "      <td>1</td>\n",
       "      <td>True</td>\n",
       "      <td>NaN</td>\n",
       "      <td>Civil Engineering</td>\n",
       "      <td>False</td>\n",
       "      <td>False</td>\n",
       "      <td>False</td>\n",
       "    </tr>\n",
       "    <tr>\n",
       "      <th>7500</th>\n",
       "      <td>P</td>\n",
       "      <td>2014000257487</td>\n",
       "      <td>6</td>\n",
       "      <td>1</td>\n",
       "      <td>2400</td>\n",
       "      <td>3</td>\n",
       "      <td>21</td>\n",
       "      <td>1070673</td>\n",
       "      <td>23</td>\n",
       "      <td>36</td>\n",
       "      <td>...</td>\n",
       "      <td>36</td>\n",
       "      <td>Others</td>\n",
       "      <td>True</td>\n",
       "      <td>1</td>\n",
       "      <td>True</td>\n",
       "      <td>NaN</td>\n",
       "      <td>Civil Engineering</td>\n",
       "      <td>False</td>\n",
       "      <td>False</td>\n",
       "      <td>False</td>\n",
       "    </tr>\n",
       "    <tr>\n",
       "      <th>9208</th>\n",
       "      <td>P</td>\n",
       "      <td>2014000311650</td>\n",
       "      <td>6</td>\n",
       "      <td>2</td>\n",
       "      <td>1703</td>\n",
       "      <td>3</td>\n",
       "      <td>21</td>\n",
       "      <td>1070673</td>\n",
       "      <td>24</td>\n",
       "      <td>56</td>\n",
       "      <td>...</td>\n",
       "      <td>25</td>\n",
       "      <td>Others</td>\n",
       "      <td>True</td>\n",
       "      <td>1</td>\n",
       "      <td>True</td>\n",
       "      <td>NaN</td>\n",
       "      <td>Civil Engineering</td>\n",
       "      <td>False</td>\n",
       "      <td>False</td>\n",
       "      <td>False</td>\n",
       "    </tr>\n",
       "    <tr>\n",
       "      <th>25162</th>\n",
       "      <td>P</td>\n",
       "      <td>2014000854182</td>\n",
       "      <td>6</td>\n",
       "      <td>1</td>\n",
       "      <td>1703</td>\n",
       "      <td>3</td>\n",
       "      <td>21</td>\n",
       "      <td>1070673</td>\n",
       "      <td>25</td>\n",
       "      <td>45</td>\n",
       "      <td>...</td>\n",
       "      <td>5</td>\n",
       "      <td>TRN</td>\n",
       "      <td>True</td>\n",
       "      <td>1</td>\n",
       "      <td>True</td>\n",
       "      <td>NaN</td>\n",
       "      <td>Civil Engineering</td>\n",
       "      <td>False</td>\n",
       "      <td>True</td>\n",
       "      <td>False</td>\n",
       "    </tr>\n",
       "    <tr>\n",
       "      <th>46753</th>\n",
       "      <td>P</td>\n",
       "      <td>2015000060414</td>\n",
       "      <td>6</td>\n",
       "      <td>2</td>\n",
       "      <td>1703</td>\n",
       "      <td>3</td>\n",
       "      <td>21</td>\n",
       "      <td>1061242</td>\n",
       "      <td>16</td>\n",
       "      <td>54</td>\n",
       "      <td>...</td>\n",
       "      <td>18</td>\n",
       "      <td>Others</td>\n",
       "      <td>True</td>\n",
       "      <td>1</td>\n",
       "      <td>True</td>\n",
       "      <td>NaN</td>\n",
       "      <td>Civil Engineering</td>\n",
       "      <td>False</td>\n",
       "      <td>False</td>\n",
       "      <td>False</td>\n",
       "    </tr>\n",
       "  </tbody>\n",
       "</table>\n",
       "<p>10 rows × 295 columns</p>\n",
       "</div>"
      ],
      "text/plain": [
       "      RT       SERIALNO  DIVISION  SPORDER  PUMA  REGION  ST   ADJINC  PWGTP  \\\n",
       "1845   P  2014000064796         6        4  1702       3  21  1070673     15   \n",
       "2590   P  2014000087766         6        2  1600       3  21  1070673     25   \n",
       "4174   P  2014000139560         6        3  1703       3  21  1070673      5   \n",
       "6248   P  2014000211898         6        1  1500       3  21  1070673     44   \n",
       "6928   P  2014000236400         6        1  2400       3  21  1070673     23   \n",
       "6947   P  2014000236477         6        1  1901       3  21  1070673      8   \n",
       "7500   P  2014000257487         6        1  2400       3  21  1070673     23   \n",
       "9208   P  2014000311650         6        2  1703       3  21  1070673     24   \n",
       "25162  P  2014000854182         6        1  1703       3  21  1070673     25   \n",
       "46753  P  2015000060414         6        2  1703       3  21  1061242     16   \n",
       "\n",
       "       AGEP  ...  PWGTP80  occupation  Civil_Engineer  Transp_Tech  \\\n",
       "1845     33  ...       40      Others            True            1   \n",
       "2590     37  ...       36         AER            True            1   \n",
       "4174     32  ...        8      Others            True            1   \n",
       "6248     61  ...       53      Others            True            1   \n",
       "6928     55  ...        7      Others            True            1   \n",
       "6947     21  ...        6      Others            True            1   \n",
       "7500     36  ...       36      Others            True            1   \n",
       "9208     56  ...       25      Others            True            1   \n",
       "25162    45  ...        5         TRN            True            1   \n",
       "46753    54  ...       18      Others            True            1   \n",
       "\n",
       "       college_grad  Transportaion_ScienceTech             degree  \\\n",
       "1845           True                        NaN  Civil Engineering   \n",
       "2590           True                        NaN  Civil Engineering   \n",
       "4174           True                        NaN  Civil Engineering   \n",
       "6248           True                        NaN  Civil Engineering   \n",
       "6928           True                        NaN  Civil Engineering   \n",
       "6947           True                        NaN  Civil Engineering   \n",
       "7500           True                        NaN  Civil Engineering   \n",
       "9208           True                        NaN  Civil Engineering   \n",
       "25162          True                        NaN  Civil Engineering   \n",
       "46753          True                        NaN  Civil Engineering   \n",
       "\n",
       "       Transportation_ScienceTech    TRN    AER  \n",
       "1845                        False  False  False  \n",
       "2590                        False  False   True  \n",
       "4174                        False  False  False  \n",
       "6248                        False  False  False  \n",
       "6928                        False  False  False  \n",
       "6947                        False  False  False  \n",
       "7500                        False  False  False  \n",
       "9208                        False  False  False  \n",
       "25162                       False   True  False  \n",
       "46753                       False  False  False  \n",
       "\n",
       "[10 rows x 295 columns]"
      ]
     },
     "execution_count": 152,
     "metadata": {},
     "output_type": "execute_result"
    }
   ],
   "source": [
    "#Question 3:wage difference between male and female civil engineers\n",
    "df2=df[df['degree']==\"Civil Engineering\"].groupby('SEX')\n",
    "df2.head()"
   ]
  },
  {
   "cell_type": "code",
   "execution_count": 242,
   "metadata": {},
   "outputs": [
    {
     "ename": "SyntaxError",
     "evalue": "expression cannot contain assignment, perhaps you meant \"==\"? (<ipython-input-242-a741058fbb3f>, line 1)",
     "output_type": "error",
     "traceback": [
      "\u001b[1;36m  File \u001b[1;32m\"<ipython-input-242-a741058fbb3f>\"\u001b[1;36m, line \u001b[1;32m1\u001b[0m\n\u001b[1;33m    print(df2[df2[\"SEX\"]]=1)\u001b[0m\n\u001b[1;37m          ^\u001b[0m\n\u001b[1;31mSyntaxError\u001b[0m\u001b[1;31m:\u001b[0m expression cannot contain assignment, perhaps you meant \"==\"?\n"
     ]
    }
   ],
   "source": [
    "print(df2[df2[\"SEX\"]]=1)"
   ]
  },
  {
   "cell_type": "code",
   "execution_count": 153,
   "metadata": {},
   "outputs": [
    {
     "data": {
      "text/html": [
       "<div>\n",
       "<style scoped>\n",
       "    .dataframe tbody tr th:only-of-type {\n",
       "        vertical-align: middle;\n",
       "    }\n",
       "\n",
       "    .dataframe tbody tr th {\n",
       "        vertical-align: top;\n",
       "    }\n",
       "\n",
       "    .dataframe thead tr th {\n",
       "        text-align: left;\n",
       "    }\n",
       "\n",
       "    .dataframe thead tr:last-of-type th {\n",
       "        text-align: right;\n",
       "    }\n",
       "</style>\n",
       "<table border=\"1\" class=\"dataframe\">\n",
       "  <thead>\n",
       "    <tr>\n",
       "      <th></th>\n",
       "      <th colspan=\"8\" halign=\"left\">DIVISION</th>\n",
       "      <th colspan=\"2\" halign=\"left\">SPORDER</th>\n",
       "      <th>...</th>\n",
       "      <th colspan=\"2\" halign=\"left\">PWGTP80</th>\n",
       "      <th colspan=\"8\" halign=\"left\">Transp_Tech</th>\n",
       "    </tr>\n",
       "    <tr>\n",
       "      <th></th>\n",
       "      <th>count</th>\n",
       "      <th>mean</th>\n",
       "      <th>std</th>\n",
       "      <th>min</th>\n",
       "      <th>25%</th>\n",
       "      <th>50%</th>\n",
       "      <th>75%</th>\n",
       "      <th>max</th>\n",
       "      <th>count</th>\n",
       "      <th>mean</th>\n",
       "      <th>...</th>\n",
       "      <th>75%</th>\n",
       "      <th>max</th>\n",
       "      <th>count</th>\n",
       "      <th>mean</th>\n",
       "      <th>std</th>\n",
       "      <th>min</th>\n",
       "      <th>25%</th>\n",
       "      <th>50%</th>\n",
       "      <th>75%</th>\n",
       "      <th>max</th>\n",
       "    </tr>\n",
       "    <tr>\n",
       "      <th>SEX</th>\n",
       "      <th></th>\n",
       "      <th></th>\n",
       "      <th></th>\n",
       "      <th></th>\n",
       "      <th></th>\n",
       "      <th></th>\n",
       "      <th></th>\n",
       "      <th></th>\n",
       "      <th></th>\n",
       "      <th></th>\n",
       "      <th></th>\n",
       "      <th></th>\n",
       "      <th></th>\n",
       "      <th></th>\n",
       "      <th></th>\n",
       "      <th></th>\n",
       "      <th></th>\n",
       "      <th></th>\n",
       "      <th></th>\n",
       "      <th></th>\n",
       "      <th></th>\n",
       "    </tr>\n",
       "  </thead>\n",
       "  <tbody>\n",
       "    <tr>\n",
       "      <th>1</th>\n",
       "      <td>248.0</td>\n",
       "      <td>6.0</td>\n",
       "      <td>0.0</td>\n",
       "      <td>6.0</td>\n",
       "      <td>6.0</td>\n",
       "      <td>6.0</td>\n",
       "      <td>6.0</td>\n",
       "      <td>6.0</td>\n",
       "      <td>248.0</td>\n",
       "      <td>1.318548</td>\n",
       "      <td>...</td>\n",
       "      <td>26.0</td>\n",
       "      <td>115.0</td>\n",
       "      <td>248.0</td>\n",
       "      <td>1.0</td>\n",
       "      <td>0.0</td>\n",
       "      <td>1.0</td>\n",
       "      <td>1.0</td>\n",
       "      <td>1.0</td>\n",
       "      <td>1.0</td>\n",
       "      <td>1.0</td>\n",
       "    </tr>\n",
       "    <tr>\n",
       "      <th>2</th>\n",
       "      <td>29.0</td>\n",
       "      <td>6.0</td>\n",
       "      <td>0.0</td>\n",
       "      <td>6.0</td>\n",
       "      <td>6.0</td>\n",
       "      <td>6.0</td>\n",
       "      <td>6.0</td>\n",
       "      <td>6.0</td>\n",
       "      <td>29.0</td>\n",
       "      <td>1.448276</td>\n",
       "      <td>...</td>\n",
       "      <td>25.0</td>\n",
       "      <td>52.0</td>\n",
       "      <td>29.0</td>\n",
       "      <td>1.0</td>\n",
       "      <td>0.0</td>\n",
       "      <td>1.0</td>\n",
       "      <td>1.0</td>\n",
       "      <td>1.0</td>\n",
       "      <td>1.0</td>\n",
       "      <td>1.0</td>\n",
       "    </tr>\n",
       "  </tbody>\n",
       "</table>\n",
       "<p>2 rows × 2256 columns</p>\n",
       "</div>"
      ],
      "text/plain": [
       "    DIVISION                                    SPORDER            ...  \\\n",
       "       count mean  std  min  25%  50%  75%  max   count      mean  ...   \n",
       "SEX                                                                ...   \n",
       "1      248.0  6.0  0.0  6.0  6.0  6.0  6.0  6.0   248.0  1.318548  ...   \n",
       "2       29.0  6.0  0.0  6.0  6.0  6.0  6.0  6.0    29.0  1.448276  ...   \n",
       "\n",
       "    PWGTP80        Transp_Tech                                     \n",
       "        75%    max       count mean  std  min  25%  50%  75%  max  \n",
       "SEX                                                                \n",
       "1      26.0  115.0       248.0  1.0  0.0  1.0  1.0  1.0  1.0  1.0  \n",
       "2      25.0   52.0        29.0  1.0  0.0  1.0  1.0  1.0  1.0  1.0  \n",
       "\n",
       "[2 rows x 2256 columns]"
      ]
     },
     "execution_count": 153,
     "metadata": {},
     "output_type": "execute_result"
    }
   ],
   "source": [
    "df2.describe()"
   ]
  },
  {
   "cell_type": "code",
   "execution_count": 158,
   "metadata": {},
   "outputs": [
    {
     "data": {
      "text/html": [
       "<div>\n",
       "<style scoped>\n",
       "    .dataframe tbody tr th:only-of-type {\n",
       "        vertical-align: middle;\n",
       "    }\n",
       "\n",
       "    .dataframe tbody tr th {\n",
       "        vertical-align: top;\n",
       "    }\n",
       "\n",
       "    .dataframe thead th {\n",
       "        text-align: right;\n",
       "    }\n",
       "</style>\n",
       "<table border=\"1\" class=\"dataframe\">\n",
       "  <thead>\n",
       "    <tr style=\"text-align: right;\">\n",
       "      <th></th>\n",
       "      <th>RT</th>\n",
       "      <th>SERIALNO</th>\n",
       "      <th>DIVISION</th>\n",
       "      <th>SPORDER</th>\n",
       "      <th>PUMA</th>\n",
       "      <th>REGION</th>\n",
       "      <th>ST</th>\n",
       "      <th>ADJINC</th>\n",
       "      <th>PWGTP</th>\n",
       "      <th>AGEP</th>\n",
       "      <th>...</th>\n",
       "      <th>PWGTP80</th>\n",
       "      <th>occupation</th>\n",
       "      <th>Civil_Engineer</th>\n",
       "      <th>Transp_Tech</th>\n",
       "      <th>college_grad</th>\n",
       "      <th>Transportaion_ScienceTech</th>\n",
       "      <th>degree</th>\n",
       "      <th>Transportation_ScienceTech</th>\n",
       "      <th>TRN</th>\n",
       "      <th>AER</th>\n",
       "    </tr>\n",
       "    <tr>\n",
       "      <th>SEX</th>\n",
       "      <th></th>\n",
       "      <th></th>\n",
       "      <th></th>\n",
       "      <th></th>\n",
       "      <th></th>\n",
       "      <th></th>\n",
       "      <th></th>\n",
       "      <th></th>\n",
       "      <th></th>\n",
       "      <th></th>\n",
       "      <th></th>\n",
       "      <th></th>\n",
       "      <th></th>\n",
       "      <th></th>\n",
       "      <th></th>\n",
       "      <th></th>\n",
       "      <th></th>\n",
       "      <th></th>\n",
       "      <th></th>\n",
       "      <th></th>\n",
       "      <th></th>\n",
       "    </tr>\n",
       "  </thead>\n",
       "  <tbody>\n",
       "    <tr>\n",
       "      <th>1</th>\n",
       "      <td>object</td>\n",
       "      <td>object</td>\n",
       "      <td>int64</td>\n",
       "      <td>int64</td>\n",
       "      <td>int64</td>\n",
       "      <td>int64</td>\n",
       "      <td>int64</td>\n",
       "      <td>int64</td>\n",
       "      <td>int64</td>\n",
       "      <td>int64</td>\n",
       "      <td>...</td>\n",
       "      <td>int64</td>\n",
       "      <td>object</td>\n",
       "      <td>bool</td>\n",
       "      <td>int64</td>\n",
       "      <td>bool</td>\n",
       "      <td>object</td>\n",
       "      <td>object</td>\n",
       "      <td>bool</td>\n",
       "      <td>bool</td>\n",
       "      <td>bool</td>\n",
       "    </tr>\n",
       "    <tr>\n",
       "      <th>2</th>\n",
       "      <td>object</td>\n",
       "      <td>object</td>\n",
       "      <td>int64</td>\n",
       "      <td>int64</td>\n",
       "      <td>int64</td>\n",
       "      <td>int64</td>\n",
       "      <td>int64</td>\n",
       "      <td>int64</td>\n",
       "      <td>int64</td>\n",
       "      <td>int64</td>\n",
       "      <td>...</td>\n",
       "      <td>int64</td>\n",
       "      <td>object</td>\n",
       "      <td>bool</td>\n",
       "      <td>int64</td>\n",
       "      <td>bool</td>\n",
       "      <td>object</td>\n",
       "      <td>object</td>\n",
       "      <td>bool</td>\n",
       "      <td>bool</td>\n",
       "      <td>bool</td>\n",
       "    </tr>\n",
       "  </tbody>\n",
       "</table>\n",
       "<p>2 rows × 294 columns</p>\n",
       "</div>"
      ],
      "text/plain": [
       "         RT SERIALNO DIVISION SPORDER   PUMA REGION     ST ADJINC  PWGTP  \\\n",
       "SEX                                                                        \n",
       "1    object   object    int64   int64  int64  int64  int64  int64  int64   \n",
       "2    object   object    int64   int64  int64  int64  int64  int64  int64   \n",
       "\n",
       "      AGEP  ... PWGTP80 occupation Civil_Engineer Transp_Tech college_grad  \\\n",
       "SEX         ...                                                              \n",
       "1    int64  ...   int64     object           bool       int64         bool   \n",
       "2    int64  ...   int64     object           bool       int64         bool   \n",
       "\n",
       "    Transportaion_ScienceTech  degree Transportation_ScienceTech   TRN   AER  \n",
       "SEX                                                                           \n",
       "1                      object  object                       bool  bool  bool  \n",
       "2                      object  object                       bool  bool  bool  \n",
       "\n",
       "[2 rows x 294 columns]"
      ]
     },
     "execution_count": 158,
     "metadata": {},
     "output_type": "execute_result"
    }
   ],
   "source": [
    "df2.dtypes"
   ]
  },
  {
   "cell_type": "code",
   "execution_count": 249,
   "metadata": {},
   "outputs": [],
   "source": [
    "# Is someone a college grad\n",
    "df['CE_WOMEN'] = df2['SEX'].apply(lambda x : x==2)# to detect if I have a college degree or not \n",
    "df['CE_MEN'] = df2['SEX'].apply(lambda x : x==1)"
   ]
  },
  {
   "cell_type": "code",
   "execution_count": 237,
   "metadata": {},
   "outputs": [
    {
     "ename": "KeyError",
     "evalue": "'Column not found: False'",
     "output_type": "error",
     "traceback": [
      "\u001b[1;31m---------------------------------------------------------------------------\u001b[0m",
      "\u001b[1;31mKeyError\u001b[0m                                  Traceback (most recent call last)",
      "\u001b[1;32m<ipython-input-237-e95352c333a0>\u001b[0m in \u001b[0;36m<module>\u001b[1;34m\u001b[0m\n\u001b[1;32m----> 1\u001b[1;33m \u001b[0mdf\u001b[0m\u001b[1;33m[\u001b[0m\u001b[1;34m'CE_WOMEN'\u001b[0m\u001b[1;33m]\u001b[0m\u001b[1;33m=\u001b[0m \u001b[0mdf2\u001b[0m\u001b[1;33m[\u001b[0m\u001b[0mdf2\u001b[0m\u001b[1;33m[\u001b[0m\u001b[1;34m\"SEX\"\u001b[0m\u001b[1;33m]\u001b[0m\u001b[1;33m==\u001b[0m\u001b[1;36m2\u001b[0m\u001b[1;33m]\u001b[0m\u001b[1;33m\u001b[0m\u001b[1;33m\u001b[0m\u001b[0m\n\u001b[0m\u001b[0;32m      2\u001b[0m \u001b[0mdf\u001b[0m\u001b[1;33m[\u001b[0m\u001b[1;34m'CE_MEN'\u001b[0m\u001b[1;33m]\u001b[0m \u001b[1;33m=\u001b[0m \u001b[0mdf2\u001b[0m\u001b[1;33m[\u001b[0m\u001b[0mdf2\u001b[0m\u001b[1;33m[\u001b[0m\u001b[1;34m\"SEX\"\u001b[0m\u001b[1;33m]\u001b[0m\u001b[1;33m==\u001b[0m\u001b[1;36m1\u001b[0m\u001b[1;33m]\u001b[0m\u001b[1;33m\u001b[0m\u001b[1;33m\u001b[0m\u001b[0m\n",
      "\u001b[1;32m~\\Anaconda3\\lib\\site-packages\\pandas\\core\\groupby\\generic.py\u001b[0m in \u001b[0;36m__getitem__\u001b[1;34m(self, key)\u001b[0m\n\u001b[0;32m   1648\u001b[0m                 \u001b[0mstacklevel\u001b[0m\u001b[1;33m=\u001b[0m\u001b[1;36m2\u001b[0m\u001b[1;33m,\u001b[0m\u001b[1;33m\u001b[0m\u001b[1;33m\u001b[0m\u001b[0m\n\u001b[0;32m   1649\u001b[0m             )\n\u001b[1;32m-> 1650\u001b[1;33m         \u001b[1;32mreturn\u001b[0m \u001b[0msuper\u001b[0m\u001b[1;33m(\u001b[0m\u001b[1;33m)\u001b[0m\u001b[1;33m.\u001b[0m\u001b[0m__getitem__\u001b[0m\u001b[1;33m(\u001b[0m\u001b[0mkey\u001b[0m\u001b[1;33m)\u001b[0m\u001b[1;33m\u001b[0m\u001b[1;33m\u001b[0m\u001b[0m\n\u001b[0m\u001b[0;32m   1651\u001b[0m \u001b[1;33m\u001b[0m\u001b[0m\n\u001b[0;32m   1652\u001b[0m     \u001b[1;32mdef\u001b[0m \u001b[0m_gotitem\u001b[0m\u001b[1;33m(\u001b[0m\u001b[0mself\u001b[0m\u001b[1;33m,\u001b[0m \u001b[0mkey\u001b[0m\u001b[1;33m,\u001b[0m \u001b[0mndim\u001b[0m\u001b[1;33m:\u001b[0m \u001b[0mint\u001b[0m\u001b[1;33m,\u001b[0m \u001b[0msubset\u001b[0m\u001b[1;33m=\u001b[0m\u001b[1;32mNone\u001b[0m\u001b[1;33m)\u001b[0m\u001b[1;33m:\u001b[0m\u001b[1;33m\u001b[0m\u001b[1;33m\u001b[0m\u001b[0m\n",
      "\u001b[1;32m~\\Anaconda3\\lib\\site-packages\\pandas\\core\\base.py\u001b[0m in \u001b[0;36m__getitem__\u001b[1;34m(self, key)\u001b[0m\n\u001b[0;32m    226\u001b[0m         \u001b[1;32melse\u001b[0m\u001b[1;33m:\u001b[0m\u001b[1;33m\u001b[0m\u001b[1;33m\u001b[0m\u001b[0m\n\u001b[0;32m    227\u001b[0m             \u001b[1;32mif\u001b[0m \u001b[0mkey\u001b[0m \u001b[1;32mnot\u001b[0m \u001b[1;32min\u001b[0m \u001b[0mself\u001b[0m\u001b[1;33m.\u001b[0m\u001b[0mobj\u001b[0m\u001b[1;33m:\u001b[0m\u001b[1;33m\u001b[0m\u001b[1;33m\u001b[0m\u001b[0m\n\u001b[1;32m--> 228\u001b[1;33m                 \u001b[1;32mraise\u001b[0m \u001b[0mKeyError\u001b[0m\u001b[1;33m(\u001b[0m\u001b[1;34mf\"Column not found: {key}\"\u001b[0m\u001b[1;33m)\u001b[0m\u001b[1;33m\u001b[0m\u001b[1;33m\u001b[0m\u001b[0m\n\u001b[0m\u001b[0;32m    229\u001b[0m             \u001b[1;32mreturn\u001b[0m \u001b[0mself\u001b[0m\u001b[1;33m.\u001b[0m\u001b[0m_gotitem\u001b[0m\u001b[1;33m(\u001b[0m\u001b[0mkey\u001b[0m\u001b[1;33m,\u001b[0m \u001b[0mndim\u001b[0m\u001b[1;33m=\u001b[0m\u001b[1;36m1\u001b[0m\u001b[1;33m)\u001b[0m\u001b[1;33m\u001b[0m\u001b[1;33m\u001b[0m\u001b[0m\n\u001b[0;32m    230\u001b[0m \u001b[1;33m\u001b[0m\u001b[0m\n",
      "\u001b[1;31mKeyError\u001b[0m: 'Column not found: False'"
     ]
    }
   ],
   "source": [
    "#df['CE_WOMEN']= df2[df2[\"SEX\"]==2]\n",
    "#df['CE_MEN'] = df2[df2[\"SEX\"]==1]"
   ]
  },
  {
   "cell_type": "code",
   "execution_count": 250,
   "metadata": {},
   "outputs": [
    {
     "data": {
      "text/plain": [
       "0         NaN\n",
       "1         NaN\n",
       "4         NaN\n",
       "5         NaN\n",
       "8         NaN\n",
       "         ... \n",
       "225031    NaN\n",
       "225034    NaN\n",
       "225035    NaN\n",
       "225036    NaN\n",
       "225039    NaN\n",
       "Name: CE_WOMEN, Length: 108994, dtype: object"
      ]
     },
     "execution_count": 250,
     "metadata": {},
     "output_type": "execute_result"
    }
   ],
   "source": [
    "df['CE_WOMEN']"
   ]
  },
  {
   "cell_type": "code",
   "execution_count": 251,
   "metadata": {},
   "outputs": [
    {
     "data": {
      "text/plain": [
       "0         NaN\n",
       "1         NaN\n",
       "4         NaN\n",
       "5         NaN\n",
       "8         NaN\n",
       "         ... \n",
       "225031    NaN\n",
       "225034    NaN\n",
       "225035    NaN\n",
       "225036    NaN\n",
       "225039    NaN\n",
       "Name: CE_MEN, Length: 108994, dtype: object"
      ]
     },
     "execution_count": 251,
     "metadata": {},
     "output_type": "execute_result"
    }
   ],
   "source": [
    "df['CE_MEN']"
   ]
  },
  {
   "cell_type": "code",
   "execution_count": 252,
   "metadata": {},
   "outputs": [
    {
     "name": "stdout",
     "output_type": "stream",
     "text": [
      "                            OLS Regression Results                            \n",
      "==============================================================================\n",
      "Dep. Variable:                   WAGP   R-squared:                       0.016\n",
      "Model:                            OLS   Adj. R-squared:                  0.013\n",
      "Method:                 Least Squares   F-statistic:                     4.611\n",
      "Date:                Mon, 22 Mar 2021   Prob (F-statistic):             0.0326\n",
      "Time:                        18:36:59   Log-Likelihood:                -3488.0\n",
      "No. Observations:                 277   AIC:                             6980.\n",
      "Df Residuals:                     275   BIC:                             6987.\n",
      "Df Model:                           1                                         \n",
      "Covariance Type:            nonrobust                                         \n",
      "====================================================================================\n",
      "                       coef    std err          t      P>|t|      [0.025      0.975]\n",
      "------------------------------------------------------------------------------------\n",
      "Intercept         4.804e+04   4673.254     10.280      0.000    3.88e+04    5.72e+04\n",
      "CE_WOMEN[T.True]  8967.6353   8972.065      1.000      0.318   -8695.022    2.66e+04\n",
      "CE_MEN[T.True]    3.907e+04   5357.106      7.293      0.000    2.85e+04    4.96e+04\n",
      "==============================================================================\n",
      "Omnibus:                      159.204   Durbin-Watson:                   1.932\n",
      "Prob(Omnibus):                  0.000   Jarque-Bera (JB):              931.371\n",
      "Skew:                           2.378   Prob(JB):                    5.69e-203\n",
      "Kurtosis:                      10.621   Cond. No.                     2.10e+16\n",
      "==============================================================================\n",
      "\n",
      "Notes:\n",
      "[1] Standard Errors assume that the covariance matrix of the errors is correctly specified.\n",
      "[2] The smallest eigenvalue is 1.16e-30. This might indicate that there are\n",
      "strong multicollinearity problems or that the design matrix is singular.\n"
     ]
    }
   ],
   "source": [
    "mod= smf.ols(formula=\"WAGP\\\n",
    "                      ~ CE_WOMEN\\\n",
    "                       + CE_MEN\", \n",
    "              data=df)\n",
    "res = mod.fit()\n",
    "print(res.summary())"
   ]
  },
  {
   "cell_type": "code",
   "execution_count": null,
   "metadata": {},
   "outputs": [],
   "source": []
  },
  {
   "cell_type": "markdown",
   "metadata": {},
   "source": [
    "### Bonus\n",
    "\n",
    "Win your bracket next year with a data-driven March Madness!\n",
    "\n",
    "https://canvas.harvard.edu/courses/12656/files/2822157/download?verifier...1"
   ]
  },
  {
   "cell_type": "code",
   "execution_count": null,
   "metadata": {},
   "outputs": [],
   "source": []
  },
  {
   "cell_type": "code",
   "execution_count": null,
   "metadata": {},
   "outputs": [],
   "source": []
  }
 ],
 "metadata": {
  "anaconda-cloud": {},
  "kernelspec": {
   "display_name": "Python 3",
   "language": "python",
   "name": "python3"
  },
  "language_info": {
   "codemirror_mode": {
    "name": "ipython",
    "version": 3
   },
   "file_extension": ".py",
   "mimetype": "text/x-python",
   "name": "python",
   "nbconvert_exporter": "python",
   "pygments_lexer": "ipython3",
   "version": "3.8.5"
  }
 },
 "nbformat": 4,
 "nbformat_minor": 1
}
