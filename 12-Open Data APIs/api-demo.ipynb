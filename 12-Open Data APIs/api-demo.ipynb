{
 "cells": [
  {
   "cell_type": "markdown",
   "metadata": {},
   "source": [
    "# Working with Data APIs\n",
    "\n",
    "**Adapted from: Sam Maurer // maurer@berkeley.edu // Oct. 3, 2016**\n",
    "\n",
    "This notebook provides a demonstration of data-access APIs that operate over the web. See README.md for setup instructions.\n",
    "\n",
    "In Part 1, we'll load and parse results from an API feed of earthquake data.  \n",
    "In Part 2, we'll add query parameters to the workflow, using the Google Maps Geolocation API as an example.  \n",
    "In Part 3, we'll use an authenticated API to query public Twitter posts. "
   ]
  },
  {
   "cell_type": "markdown",
   "metadata": {},
   "source": [
    "# Part 1: Reading from an automated data feed\n",
    "\n",
    "### USGS real-time earthquake feeds\n",
    "\n",
    "This is an API for near-real-time data about earthquakes. Data is provided in JSON format over the web. No authentication is needed, and there's no way to customize the output. Instead, the API has a separate endpoint for each permutation of the data that users might want.\n",
    "\n",
    "**API documentation:**  \n",
    "http://earthquake.usgs.gov/earthquakes/feed/v1.0/geojson.php\n",
    "\n",
    "**Sample API endpoint, for magnitude 4.5+ earthquakes in past day:**  \n",
    "http://earthquake.usgs.gov/earthquakes/feed/v1.0/summary/4.5_day.geojson  \n"
   ]
  },
  {
   "cell_type": "code",
   "execution_count": 1,
   "metadata": {},
   "outputs": [],
   "source": [
    "%matplotlib inline\n",
    "\n",
    "import pandas as pd\n",
    "\n",
    "import json    # library for working with JSON-formatted text strings\n",
    "import requests  # library for accessing content from web URLs\n",
    "\n",
    "import pprint  # library for making Python data structures readable\n",
    "pp = pprint.PrettyPrinter()"
   ]
  },
  {
   "cell_type": "code",
   "execution_count": 3,
   "metadata": {},
   "outputs": [
    {
     "name": "stdout",
     "output_type": "stream",
     "text": [
      "<class 'str'>\n"
     ]
    }
   ],
   "source": [
    "# download data on magnitude 2.5+ quakes from the past week\n",
    "\n",
    "endpoint_url = \"http://earthquake.usgs.gov/earthquakes/feed/v1.0/summary/2.5_week.geojson\"\n",
    "response = requests.get(endpoint_url)\n",
    "results = response.text\n",
    "\n",
    "# what is the data type of the results?\n",
    "print(type(results))"
   ]
  },
  {
   "cell_type": "code",
   "execution_count": 4,
   "metadata": {},
   "outputs": [
    {
     "name": "stdout",
     "output_type": "stream",
     "text": [
      "{\"type\":\"FeatureCollection\",\"metadata\":{\"generated\":1615417927000,\"url\":\"https://earthquake.usgs.gov/earthquakes/feed/v1.0/summary/2.5_week.geojson\",\"title\":\"USGS Magnitude 2.5+ Earthquakes, Past Week\",\"status\":200,\"api\":\"1.10.3\",\"count\":474},\"features\":[{\"type\":\"Feature\",\"properties\":{\"mag\":2.47,\"place\":\"Island of Hawaii, Hawaii\",\"time\":1615416193700,\"updated\":1615416523370,\"tz\":null,\"url\":\"https://earthquake.usgs.gov/earthquakes/eventpage/hv72379437\",\"detail\":\"https://earthquake.usgs.gov/earth\n"
     ]
    }
   ],
   "source": [
    "# print the first 500 characters to see a sample of the data\n",
    "\n",
    "print(results[:500])"
   ]
  },
  {
   "cell_type": "code",
   "execution_count": 6,
   "metadata": {},
   "outputs": [
    {
     "name": "stdout",
     "output_type": "stream",
     "text": [
      "<class 'dict'>\n"
     ]
    }
   ],
   "source": [
    "# it looks like the results are a string with JSON-formatted data inside\n",
    "\n",
    "# parse the string into a Python dictionary\n",
    "data = json.loads(results)\n",
    "\n",
    "print(type(data))"
   ]
  },
  {
   "cell_type": "code",
   "execution_count": 7,
   "metadata": {},
   "outputs": [
    {
     "name": "stdout",
     "output_type": "stream",
     "text": [
      "{'type': 'Feature', 'properties': {'mag': 2.47, 'place': 'Island of Hawaii, Hawaii', 'time': 1615416193700, 'updated': 1615416523370, 'tz': None, 'url': 'https://earthquake.usgs.gov/earthquakes/eventpage/hv72379437', 'detail': 'https://earthquake.usgs.gov/earthquakes/feed/v1.0/detail/hv72379437.geojson', 'felt': None, 'cdi': None, 'mmi': None, 'alert': None, 'status': 'automatic', 'tsunami': 0, 'sig': 94, 'net': 'hv', 'code': '72379437', 'ids': ',hv72379437,', 'sources': ',hv,', 'types': ',origin,phase-data,', 'nst': 11, 'dmin': None, 'rms': 0.119999997, 'gap': 223, 'magType': 'ml', 'type': 'earthquake', 'title': 'M 2.5 - Island of Hawaii, Hawaii'}, 'geometry': {'type': 'Point', 'coordinates': [-155.461837768555, 19.1726665496826, 32.2400016784668]}, 'id': 'hv72379437'}\n"
     ]
    }
   ],
   "source": [
    "# print the most recent quake\n",
    "\n",
    "quakes = data['features']\n",
    "print(quakes[0])"
   ]
  },
  {
   "cell_type": "code",
   "execution_count": 8,
   "metadata": {},
   "outputs": [
    {
     "name": "stdout",
     "output_type": "stream",
     "text": [
      "{'coordinates': [-155.461837768555, 19.1726665496826, 32.2400016784668],\n",
      " 'type': 'Point'}\n",
      "{'alert': None,\n",
      " 'cdi': None,\n",
      " 'code': '72379437',\n",
      " 'detail': 'https://earthquake.usgs.gov/earthquakes/feed/v1.0/detail/hv72379437.geojson',\n",
      " 'dmin': None,\n",
      " 'felt': None,\n",
      " 'gap': 223,\n",
      " 'ids': ',hv72379437,',\n",
      " 'mag': 2.47,\n",
      " 'magType': 'ml',\n",
      " 'mmi': None,\n",
      " 'net': 'hv',\n",
      " 'nst': 11,\n",
      " 'place': 'Island of Hawaii, Hawaii',\n",
      " 'rms': 0.119999997,\n",
      " 'sig': 94,\n",
      " 'sources': ',hv,',\n",
      " 'status': 'automatic',\n",
      " 'time': 1615416193700,\n",
      " 'title': 'M 2.5 - Island of Hawaii, Hawaii',\n",
      " 'tsunami': 0,\n",
      " 'type': 'earthquake',\n",
      " 'types': ',origin,phase-data,',\n",
      " 'tz': None,\n",
      " 'updated': 1615416523370,\n",
      " 'url': 'https://earthquake.usgs.gov/earthquakes/eventpage/hv72379437'}\n"
     ]
    }
   ],
   "source": [
    "# print it more clearly\n",
    "\n",
    "pp.pprint(quakes[0]['geometry'])\n",
    "pp.pprint(quakes[0]['properties'])"
   ]
  },
  {
   "cell_type": "code",
   "execution_count": 9,
   "metadata": {},
   "outputs": [
    {
     "name": "stdout",
     "output_type": "stream",
     "text": [
      "M 2.5 - Island of Hawaii, Hawaii\n",
      "M 4.8 - Kermadec Islands region\n",
      "M 5.0 - 286 km WNW of Haveluloto, Tonga\n",
      "M 2.9 - 27km W of Petrolia, CA\n",
      "M 4.7 - 41 km W of Gonābād, Iran\n",
      "M 5.8 - 280 km WNW of Haveluloto, Tonga\n",
      "M 5.1 - south of the Kermadec Islands\n",
      "M 4.6 - south of the Fiji Islands\n",
      "M 4.2 - 49 km S of Ordos, China\n",
      "M 2.7 - 5 km SW of Dibble, Oklahoma\n",
      "M 5.1 - 84 km ESE of Kokopo, Papua New Guinea\n",
      "M 4.5 - 227 km ENE of Gisborne, New Zealand\n",
      "M 4.3 - 135 km E of Yamada, Japan\n",
      "M 4.1 - 15 km SW of Salvaleón de Higüey, Dominican Republic\n",
      "M 2.7 - 54 km S of Whites City, New Mexico\n",
      "M 4.5 - east of the North Island of New Zealand\n",
      "M 4.5 - 49 km SW of Tomohon, Indonesia\n",
      "M 4.2 - 3 km NNE of Yanaoca, Peru\n",
      "M 4.1 - 76 km NNE of Colchani, Bolivia\n",
      "M 2.7 - 3 km SSE of Pāhala, Hawaii\n",
      "M 2.6 - 19 km E of Alamo, Nevada\n",
      "M 4.4 - 2 km W of Reykjavík, Iceland\n",
      "M 4.9 - 53 km W of Pandan Niog, Philippines\n",
      "M 2.8 - 23km S of South Dos Palos, CA\n",
      "M 4.3 - Izu Islands, Japan region\n",
      "M 3.0 - 6 km SSE of Pole Ojea, Puerto Rico\n",
      "M 5.1 - 10 km ENE of Vogar, Iceland\n",
      "M 4.2 - Off the coast of Aisen, Chile\n",
      "M 2.7 - 7 km WNW of Smiths Ferry, Idaho\n",
      "M 4.3 - 148 km ESE of Kuril’sk, Russia\n",
      "M 5.1 - south of the Kermadec Islands\n",
      "M 4.7 - 128 km SSE of Sarangani, Philippines\n",
      "M 5.1 - 299 km W of Puerto Chacabuco, Chile\n",
      "M 4.2 - 43 km WNW of Taltal, Chile\n",
      "M 2.5 - 7 km E of Pāhala, Hawaii\n",
      "M 5.4 - 33 km NW of Fougamou, Gabon\n",
      "M 3.9 - 53 km SW of Calama, Chile\n",
      "M 4.8 - Kermadec Islands region\n",
      "M 4.9 - Mid-Indian Ridge\n",
      "M 3.0 - 30 km S of Petersville, Alaska\n",
      "M 4.7 - 49 km SSW of Jurm, Afghanistan\n",
      "M 2.7 - 45 km SSW of Tanana, Alaska\n",
      "M 3.1 - 6 km SSE of Pole Ojea, Puerto Rico\n",
      "M 4.4 - 194 km S of Alo, Wallis and Futuna\n",
      "M 4.6 - Kermadec Islands region\n",
      "M 4.6 - Fiji region\n",
      "M 5.1 - 42 km NNE of Tingo María, Peru\n",
      "M 4.6 - 84 km N of Isangel, Vanuatu\n",
      "M 5.0 - 126 km SSE of Popondetta, Papua New Guinea\n",
      "M 2.6 - 15 km ESE of Paragonah, Utah\n",
      "M 2.5 - 29km W of Wimer Place, NV\n",
      "M 4.9 - Kermadec Islands region\n",
      "M 4.6 - Kermadec Islands region\n",
      "M 4.8 - Kermadec Islands region\n",
      "M 3.3 - 31 km WSW of Forks, Washington\n",
      "M 3.7 - 115 km SSE of Sand Point, Alaska\n",
      "M 4.6 - 49 km ESE of Phek, India\n",
      "M 3.3 - 49 km N of Brenas, Puerto Rico\n",
      "M 4.9 - Kermadec Islands, New Zealand\n",
      "M 2.7 - 11 km ENE of Pāhala, Hawaii\n",
      "M 2.6 - 11 km ENE of Pāhala, Hawaii\n",
      "M 5.3 - 100 km W of Port-Vila, Vanuatu\n",
      "M 4.5 - 45 km E of Madang, Papua New Guinea\n",
      "M 2.5 - 1 km ESE of Pāhala, Hawaii\n",
      "M 2.9 - 71 km S of Kaktovik, Alaska\n",
      "M 3.3 - 239 km SE of Chiniak, Alaska\n",
      "M 2.8 - 7 km SSE of Maria Antonia, Puerto Rico\n",
      "M 4.8 - 58 km N of Culebra, Puerto Rico\n",
      "M 4.8 - 94 km S of Ierápetra, Greece\n",
      "M 4.6 - 91 km NNW of Sola, Vanuatu\n",
      "M 2.7 - 7 km S of Tallaboa, Puerto Rico\n",
      "M 4.3 - 50 km SSW of Ashkāsham, Afghanistan\n",
      "M 4.1 - 91 km ESE of Hengchun, Taiwan\n",
      "M 4.6 - 83 km E of Hengchun, Taiwan\n",
      "M 4.6 - 184 km W of Tennō, Japan\n",
      "M 3.2 - 65km NNW of Stovepipe Wells, CA\n",
      "M 5.1 - Kermadec Islands region\n",
      "M 4.9 - 33 km S of Ōfunato, Japan\n",
      "M 2.5 - 10 km S of Tallaboa, Puerto Rico\n",
      "M 5.0 - Kermadec Islands region\n",
      "M 2.7 - 42 km E of Port Alsworth, Alaska\n",
      "M 2.5 - 27km WSW of Baker, CA\n",
      "M 5.2 - Kermadec Islands region\n",
      "M 2.8 - 48 km WNW of Happy Valley, Alaska\n",
      "M 4.5 - 285 km N of Dili, Timor Leste\n",
      "M 5.1 - Kermadec Islands, New Zealand\n",
      "M 2.5 - 53 km S of Whites City, New Mexico\n",
      "M 2.9 - 12 km SSE of Maria Antonia, Puerto Rico\n",
      "M 4.4 - 9 km N of Grizáno, Greece\n",
      "M 4.3 - 9 km ENE of Zárkos, Greece\n",
      "M 5.0 - Kermadec Islands region\n",
      "M 3.8 - 68 km SSE of Iquique, Chile\n",
      "M 5.0 - Kermadec Islands region\n",
      "M 2.7 - 9 km SSE of Maria Antonia, Puerto Rico\n",
      "M 2.5 - 21 km WNW of Mentone, Texas\n",
      "M 4.6 - 65 km ENE of Namie, Japan\n",
      "M 4.4 - 162 km ESE of Petropavlovsk-Kamchatsky, Russia\n",
      "M 3.3 - 26 km S of Petersville, Alaska\n",
      "M 5.5 - 158 km WSW of Bengkulu, Indonesia\n",
      "M 2.9 - 72 km SW of Kaktovik, Alaska\n",
      "M 5.2 - 95 km NE of Los Andes, Chile\n",
      "M 2.7 - 20 km E of Chase, Alaska\n",
      "M 4.9 - east of the North Island of New Zealand\n",
      "M 4.2 - 116 km ESE of Arica, Chile\n",
      "M 5.4 - Kermadec Islands region\n",
      "M 4.8 - Kermadec Islands region\n",
      "M 4.5 - Kuril Islands\n",
      "M 4.8 - 164 km ENE of Lospalos, Timor Leste\n",
      "M 3.2 - 14 km SSE of Guánica, Puerto Rico\n",
      "M 2.9 - 76 km NNE of San Juan, Puerto Rico\n",
      "M 2.5 - 190 km SSE of Old Harbor, Alaska\n",
      "M 4.8 - Kermadec Islands region\n",
      "M 5.0 - Kermadec Islands, New Zealand\n",
      "M 4.9 - Kermadec Islands region\n",
      "M 2.5 - 9 km S of Tallaboa, Puerto Rico\n",
      "M 3.2 - 12km NNE of Round Valley, CA\n",
      "M 5.0 - Kermadec Islands region\n",
      "M 3.0 - 8 km S of Tallaboa, Puerto Rico\n",
      "M 2.6 - 42 km NNE of Karluk, Alaska\n",
      "M 5.0 - Kermadec Islands region\n",
      "M 2.9 - Puerto Rico region\n",
      "M 4.5 - 185 km NE of Gisborne, New Zealand\n",
      "M 3.1 - 8 km S of Tallaboa, Puerto Rico\n",
      "M 4.9 - 239 km NE of Gisborne, New Zealand\n",
      "M 4.3 - 7 km N of Kamárai, Greece\n",
      "M 4.9 - Kermadec Islands region\n",
      "M 4.9 - Kermadec Islands, New Zealand\n",
      "M 4.7 - Kermadec Islands region\n",
      "M 5.2 - Kermadec Islands region\n",
      "M 5.8 - Kermadec Islands, New Zealand\n",
      "M 3.6 - 54 km S of Chenega, Alaska\n",
      "M 5.2 - Kermadec Islands, New Zealand\n",
      "M 5.2 - Kermadec Islands region\n",
      "M 5.3 - 149 km ENE of Gisborne, New Zealand\n",
      "M 2.5 - 23 km WNW of Volcano, Hawaii\n",
      "M 4.9 - 163 km ENE of Gisborne, New Zealand\n",
      "M 3.4 - 0 km NE of Mucarabones, Puerto Rico\n",
      "M 4.8 - 138 km WNW of Pangai, Tonga\n",
      "M 2.5 - 4 km SE of Maria Antonia, Puerto Rico\n",
      "M 4.4 - 278 km E of Levuka, Fiji\n",
      "M 2.7 - 31 km SSW of Tatitlek, Alaska\n",
      "M 5.2 - Kermadec Islands region\n",
      "M 2.7 - 5 km WSW of Manchester, Oklahoma\n",
      "M 4.7 - 218 km ENE of Gisborne, New Zealand\n",
      "M 4.7 - 83 km NE of Amahai, Indonesia\n",
      "M 2.6 - 4km NNE of Almanor, CA\n",
      "M 4.6 - 298 km W of Haveluloto, Tonga\n",
      "M 3.6 - 63 km NNE of Otra Banda, Dominican Republic\n",
      "M 5.0 - Kermadec Islands region\n",
      "M 3.4 - 114 km N of Culebra, Puerto Rico\n",
      "M 4.6 - Kermadec Islands region\n",
      "M 2.6 - 11km ESE of Willits, CA\n",
      "M 4.6 - Kermadec Islands, New Zealand\n",
      "M 5.4 - Kermadec Islands region\n",
      "M 2.7 - 64km W of Petrolia, CA\n",
      "M 2.6 - 74 km WSW of Ferndale, California\n",
      "M 4.9 - Kermadec Islands, New Zealand\n",
      "M 4.5 - 27 km S of Shizunai-furukawachō, Japan\n",
      "M 4.0 - 13 km WSW of Puquina, Peru\n",
      "M 4.8 - 218 km ENE of Gisborne, New Zealand\n",
      "M 4.2 - 61 km ENE of Namie, Japan\n",
      "M 4.0 - 14 km S of Ashkāsham, Afghanistan\n",
      "M 5.4 - Kermadec Islands region\n",
      "M 5.2 - south of the Kermadec Islands\n",
      "M 2.9 - 27 km WSW of Nanwalek, Alaska\n",
      "M 5.1 - Kermadec Islands region\n",
      "M 2.9 - 5 km SSW of Guánica, Puerto Rico\n",
      "M 5.1 - Kermadec Islands region\n",
      "M 2.8 - 3 km SE of Indios, Puerto Rico\n",
      "M 3.2 - 4 km SW of Point MacKenzie, Alaska\n",
      "M 5.0 - Kermadec Islands region\n",
      "M 5.2 - 208 km NE of Gisborne, New Zealand\n",
      "M 4.8 - 81 km W of San Antonio de los Cobres, Argentina\n",
      "M 5.4 - south of the Kermadec Islands\n",
      "M 4.7 - 46 km WSW of Puerto Madero, Mexico\n",
      "M 4.9 - Maug Islands region, Northern Mariana Islands\n",
      "M 5.1 - 235 km NE of Gisborne, New Zealand\n",
      "M 4.5 - 22 km E of Estique, Peru\n",
      "M 4.4 - 163 km NE of Gisborne, New Zealand\n",
      "M 2.5 - 40km NNE of Toms Place, CA\n",
      "M 5.0 - Kermadec Islands, New Zealand\n",
      "M 2.5 - 2 km SW of Pāhala, Hawaii\n",
      "M 2.5 - 6 km S of Mud Bay, Alaska\n",
      "M 2.6 - 4 km ESE of Maria Antonia, Puerto Rico\n",
      "M 5.6 - 217 km NE of Gisborne, New Zealand\n",
      "M 4.7 - 88 km SSE of Sarangani, Philippines\n",
      "M 5.2 - 222 km NE of Gisborne, New Zealand\n",
      "M 2.7 - 7 km SE of Maria Antonia, Puerto Rico\n",
      "M 4.1 - 4 km W of San Miguel Quetzaltepec, Mexico\n",
      "M 5.5 - Kermadec Islands region\n",
      "M 4.2 - 15 km ESE of Funaishikawa, Japan\n",
      "M 5.0 - Kermadec Islands region\n",
      "M 4.4 - 52 km SSW of Lambaréné, Gabon\n",
      "M 4.4 - 5 km NE of Reykjanesbær, Iceland\n",
      "M 4.5 - 8 km ENE of Vogar, Iceland\n",
      "M 4.0 - 5 km WNW of Álftanes, Iceland\n",
      "M 3.2 - 46 km N of Valdez, Alaska\n",
      "M 5.2 - Kermadec Islands region\n",
      "M 5.2 - 10 km ENE of Vogar, Iceland\n",
      "M 5.4 - Kermadec Islands region\n",
      "M 5.0 - Kermadec Islands region\n",
      "M 4.9 - 243 km NE of Gisborne, New Zealand\n",
      "M 5.2 - 219 km W of Tual, Indonesia\n",
      "M 4.7 - 249 km NE of Gisborne, New Zealand\n",
      "M 5.0 - Mariana Islands region\n",
      "M 5.2 - 245 km NE of Gisborne, New Zealand\n",
      "M 5.0 - Kermadec Islands region\n",
      "M 4.3 - 13 km NNE of Rasht, Tajikistan\n",
      "M 5.0 - Mariana Islands region\n",
      "M 5.5 - Kermadec Islands region\n",
      "M 5.2 - Kermadec Islands region\n",
      "M 4.7 - 213 km NE of Gisborne, New Zealand\n",
      "M 5.2 - Kermadec Islands region\n",
      "M 5.2 - Kermadec Islands region\n",
      "M 4.7 - Mariana Islands region\n",
      "M 4.7 - Kermadec Islands region\n",
      "M 3.2 - 28 km E of Honaunau-Napoopoo, Hawaii\n",
      "M 5.1 - Kermadec Islands region\n",
      "M 5.3 - 114 km S of Kandrian, Papua New Guinea\n",
      "M 4.9 - Mariana Islands region\n",
      "M 4.1 - 43 km SW of Ashkāsham, Afghanistan\n",
      "M 4.9 - Maug Islands region, Northern Mariana Islands\n",
      "M 2.9 - 85 km NNE of Kobuk, Alaska\n",
      "M 5.1 - Kermadec Islands region\n",
      "M 4.9 - 201 km ENE of Gisborne, New Zealand\n",
      "M 4.4 - 10 km WSW of Elassóna, Greece\n",
      "M 5.7 - Maug Islands region, Northern Mariana Islands\n",
      "M 5.1 - southeast of the Loyalty Islands\n",
      "M 2.9 - 56 km E of Noatak, Alaska\n",
      "M 5.1 - Bonin Islands, Japan region\n",
      "M 2.5 - 12 km SSE of Maria Antonia, Puerto Rico\n",
      "M 5.5 - Mariana Islands region\n",
      "M 5.2 - Mariana Islands region\n",
      "M 4.6 - 232 km ENE of Gisborne, New Zealand\n",
      "M 4.9 - 213 km ENE of Gisborne, New Zealand\n",
      "M 2.7 - 8 km SSE of Maria Antonia, Puerto Rico\n",
      "M 5.2 - Kermadec Islands region\n",
      "M 4.7 - 17 km ESE of Iray, Peru\n",
      "M 5.6 - Kermadec Islands region\n",
      "M 5.2 - 45 km W of Fougamou, Gabon\n",
      "M 4.4 - 213 km ENE of Gisborne, New Zealand\n",
      "M 2.6 - 3 km SSW of Pāhala, Hawaii\n",
      "M 4.6 - 81 km SSW of Severo-Kuril’sk, Russia\n",
      "M 4.9 - Kermadec Islands region\n",
      "M 4.7 - 216 km ENE of Gisborne, New Zealand\n",
      "M 4.3 - 50 km N of Yoichi, Japan\n",
      "M 4.9 - south of the Kermadec Islands\n",
      "M 4.6 - 263 km ENE of Gisborne, New Zealand\n",
      "M 5.0 - Kermadec Islands region\n",
      "M 6.1 - Kermadec Islands region\n",
      "M 5.4 - Kermadec Islands region\n",
      "M 4.4 - 7 km SSW of Taloqan, Afghanistan\n",
      "M 4.9 - Kermadec Islands region\n",
      "M 2.6 - California-Nevada border region\n",
      "M 2.6 - 81 km E of Ugashik, Alaska\n",
      "M 5.3 - Kermadec Islands region\n",
      "M 5.4 - Kermadec Islands region\n",
      "M 6.2 - Kermadec Islands region\n",
      "M 4.7 - Kermadec Islands region\n",
      "M 5.7 - Kermadec Islands region\n",
      "M 4.3 - Kepulauan Barat Daya, Indonesia\n",
      "M 2.5 - Puerto Rico region\n",
      "M 5.0 - Kermadec Islands region\n",
      "M 4.9 - Kermadec Islands region\n",
      "M 3.4 - 61 km ENE of Pedro Bay, Alaska\n",
      "M 4.5 - 185 km ENE of Gisborne, New Zealand\n",
      "M 5.1 - Kermadec Islands region\n",
      "M 4.6 - 192 km ENE of Gisborne, New Zealand\n",
      "M 5.5 - Kermadec Islands region\n",
      "M 6.1 - Kermadec Islands region\n",
      "M 5.6 - Kermadec Islands region\n",
      "M 4.8 - Kermadec Islands region\n",
      "M 5.8 - Kermadec Islands region\n",
      "M 2.9 - 2 km SSW of Wallsburg, Utah\n",
      "M 5.5 - 224 km ENE of Gisborne, New Zealand\n",
      "M 2.5 - 26 km NE of Stanley, Idaho\n",
      "M 5.3 - 104 km SE of Ozernovskiy, Russia\n",
      "M 4.5 - 194 km NE of Gisborne, New Zealand\n",
      "M 4.9 - Kermadec Islands region\n",
      "M 4.4 - 205 km NE of Gisborne, New Zealand\n",
      "M 2.8 - 47 km SE of Lowell Point, Alaska\n",
      "M 4.5 - 92 km SSW of Acajutla, El Salvador\n",
      "M 4.9 - 222 km ENE of Opotiki, New Zealand\n",
      "M 5.5 - Kermadec Islands region\n",
      "M 5.1 - 195 km NE of Gisborne, New Zealand\n",
      "M 4.3 - 189 km NE of Gisborne, New Zealand\n",
      "M 3.4 - 241 km SE of Chiniak, Alaska\n",
      "M 2.5 - 4 km ENE of Pāhala, Hawaii\n",
      "M 5.1 - 220 km NE of Gisborne, New Zealand\n",
      "M 4.3 - 58 km SSE of Shizunai-furukawachō, Japan\n",
      "M 2.7 - 4km NNW of The Geysers, CA\n",
      "M 4.3 - 176 km NE of Gisborne, New Zealand\n",
      "M 4.5 - 197 km NE of Gisborne, New Zealand\n",
      "M 4.3 - 103 km ESE of Arica, Chile\n",
      "M 5.0 - Kermadec Islands region\n",
      "M 3.4 - 115 km SE of Perryville, Alaska\n",
      "M 5.0 - 208 km NE of Gisborne, New Zealand\n",
      "M 5.2 - Kermadec Islands region\n",
      "M 2.6 - 14 km S of Fern Forest, Hawaii\n",
      "M 6.3 - 182 km NE of Gisborne, New Zealand\n",
      "M 4.7 - 59 km SW of Puerto Santa, Peru\n",
      "M 5.1 - 214 km NE of Gisborne, New Zealand\n",
      "M 5.0 - Kermadec Islands region\n",
      "M 5.6 - Kermadec Islands region\n",
      "M 4.8 - West Chile Rise\n",
      "M 5.1 - 194 km NE of Gisborne, New Zealand\n",
      "M 5.1 - Kermadec Islands, New Zealand\n",
      "M 5.1 - Kermadec Islands region\n",
      "M 4.2 - 2 km NW of Bo‘ka, Uzbekistan\n",
      "M 2.8 - 27 km NE of Healy, Alaska\n",
      "M 5.3 - 186 km NE of Gisborne, New Zealand\n",
      "M 5.3 - Kermadec Islands region\n",
      "M 5.1 - Kermadec Islands region\n",
      "M 5.0 - Kermadec Islands, New Zealand\n",
      "M 5.9 - Kermadec Islands, New Zealand\n",
      "M 5.3 - Kermadec Islands region\n",
      "M 4.9 - South Shetland Islands\n",
      "M 5.0 - 200 km ENE of Gisborne, New Zealand\n",
      "M 5.7 - Kermadec Islands region\n",
      "M 5.7 - Kermadec Islands region\n",
      "M 5.6 - Kermadec Islands, New Zealand\n",
      "M 5.5 - Kermadec Islands region\n",
      "M 4.6 - 73 km WNW of Bengkulu, Indonesia\n",
      "M 3.3 - 19km E of Little Lake, CA\n",
      "M 3.0 - 1 km ENE of Potala Pastillo, Puerto Rico\n",
      "M 5.2 - 202 km ENE of Gisborne, New Zealand\n",
      "M 4.6 - 221 km ENE of Gisborne, New Zealand\n",
      "M 4.7 - Kermadec Islands region\n",
      "M 2.5 - 26 km NW of Stanley, Idaho\n",
      "M 4.8 - Kermadec Islands region\n",
      "M 5.0 - Kermadec Islands region\n",
      "M 5.0 - 217 km ENE of Gisborne, New Zealand\n",
      "M 5.0 - Kermadec Islands region\n",
      "M 5.0 - Kermadec Islands, New Zealand\n",
      "M 6.2 - Kermadec Islands region\n",
      "M 4.2 - 2 km SW of Nahrīn, Afghanistan\n",
      "M 4.6 - off the west coast of northern Sumatra\n",
      "M 4.7 - Kermadec Islands region\n",
      "M 2.9 - 21km SSW of Little Lake, CA\n",
      "M 5.1 - Kermadec Islands region\n",
      "M 2.7 - 235 km WSW of Yakutat, Alaska\n",
      "M 4.9 - 187 km ENE of Gisborne, New Zealand\n",
      "M 4.5 - Izu Islands, Japan region\n",
      "M 5.0 - Kermadec Islands, New Zealand\n",
      "M 4.7 - 5 km ENE of Verdikoússa, Greece\n",
      "M 5.3 - Kermadec Islands region\n",
      "M 3.0 - 83 km W of Trinidad, California\n",
      "M 2.7 - 32 km SE of Mina, Nevada\n",
      "M 4.9 - Kermadec Islands region\n",
      "M 4.4 - 220 km NE of Gisborne, New Zealand\n",
      "M 2.7 - 1 km ESE of Magas Arriba, Puerto Rico\n",
      "M 3.5 - 5 km N of Ames, Oklahoma\n",
      "M 2.7 - 13 km SSE of Guánica, Puerto Rico\n",
      "M 5.9 - Kermadec Islands region\n",
      "M 5.1 - Chagos Archipelago region\n",
      "M 2.8 - 64 km SSE of Akhiok, Alaska\n",
      "M 5.6 - 157 km SW of Padang, Indonesia\n",
      "M 5.4 - Kermadec Islands region\n",
      "M 3.7 - 39 km S of La Romana, Dominican Republic\n",
      "M 4.9 - Kermadec Islands region\n",
      "M 5.0 - Kermadec Islands region\n",
      "M 4.6 - 33 km SSE of Shizunai-furukawachō, Japan\n",
      "M 5.1 - Kermadec Islands region\n",
      "M 5.0 - southern East Pacific Rise\n",
      "M 3.0 - 14km SSW of Olancha, CA\n",
      "M 2.6 - 29 km SSE of Mina, Nevada\n",
      "M 2.6 - 75 km E of Port Alsworth, Alaska\n",
      "M 4.9 - 191 km ENE of Gisborne, New Zealand\n",
      "M 4.7 - Kermadec Islands region\n",
      "M 5.0 - Kermadec Islands region\n",
      "M 5.1 - Kermadec Islands region\n",
      "M 5.3 - Kermadec Islands region\n",
      "M 5.3 - Kermadec Islands region\n",
      "M 5.1 - Kermadec Islands region\n",
      "M 5.2 - Kermadec Islands region\n",
      "M 5.6 - Kermadec Islands region\n",
      "M 5.6 - Kermadec Islands region\n",
      "M 5.6 - Kermadec Islands region\n",
      "M 5.4 - Kermadec Islands region\n",
      "M 5.3 - Kermadec Islands region\n",
      "M 6.3 - Kermadec Islands region\n",
      "M 2.7 - 63 km NW of Arctic Village, Alaska\n",
      "M 2.6 - 14km S of Mariposa, CA\n",
      "M 5.1 - Kermadec Islands region\n",
      "M 5.2 - Kermadec Islands region\n",
      "M 3.0 - 103 km NNE of Pa‘auilo, Hawaii\n",
      "M 5.3 - Kermadec Islands region\n",
      "M 5.3 - Kermadec Islands, New Zealand\n",
      "M 4.9 - Kermadec Islands, New Zealand\n",
      "M 5.0 - Kermadec Islands, New Zealand\n",
      "M 5.6 - Kermadec Islands, New Zealand\n",
      "M 5.2 - Kermadec Islands, New Zealand\n",
      "M 5.2 - Kermadec Islands region\n",
      "M 2.7 - 14 km SW of Stanley, Idaho\n",
      "M 5.9 - Kermadec Islands region\n",
      "M 5.5 - Kermadec Islands, New Zealand\n",
      "M 3.8 - 90 km SE of Sand Point, Alaska\n",
      "M 5.3 - Kermadec Islands, New Zealand\n",
      "M 5.1 - Kermadec Islands, New Zealand\n",
      "M 5.6 - Kermadec Islands, New Zealand\n",
      "M 5.5 - Kermadec Islands region\n",
      "M 6.1 - Kermadec Islands region\n",
      "M 5.4 - Kermadec Islands region\n",
      "M 2.8 - 8 km SSE of Indios, Puerto Rico\n",
      "M 5.6 - Kermadec Islands region\n",
      "M 3.0 - 30km WNW of Ferndale, CA\n",
      "M 3.8 - 117 km SSE of Sand Point, Alaska\n",
      "M 5.4 - Kermadec Islands region\n",
      "M 5.8 - Kermadec Islands region\n",
      "M 5.2 - Kermadec Islands region\n",
      "M 5.7 - Kermadec Islands, New Zealand\n",
      "M 5.1 - Kermadec Islands region\n",
      "M 5.5 - Kermadec Islands region\n",
      "M 5.4 - Kermadec Islands, New Zealand\n",
      "M 5.1 - Kermadec Islands region\n",
      "M 5.1 - 235 km ENE of Gisborne, New Zealand\n",
      "M 5.6 - 209 km ENE of Gisborne, New Zealand\n",
      "M 6.1 - Kermadec Islands region\n",
      "M 5.5 - Kermadec Islands region\n",
      "M 4.6 - 9 km WNW of Týrnavos, Greece\n",
      "M 2.9 - 25 km NW of Stanley, Idaho\n",
      "M 5.7 - Kermadec Islands, New Zealand\n",
      "M 8.1 - Kermadec Islands, New Zealand\n",
      "M 5.5 - 7 km S of Kraniá Elassónas, Greece\n",
      "M 4.9 - Kermadec Islands, New Zealand\n",
      "M 5.1 - Kermadec Islands, New Zealand\n",
      "M 5.0 - Kermadec Islands, New Zealand\n",
      "M 5.8 - Greece\n",
      "M 2.9 - 40 km SSE of Denali National Park, Alaska\n",
      "M 5.2 - Kermadec Islands, New Zealand\n",
      "M 5.6 - Kermadec Islands, New Zealand\n",
      "M 7.4 - Kermadec Islands, New Zealand\n",
      "M 4.4 - off the east coast of the North Island of New Zealand\n",
      "M 4.7 - Volcano Islands, Japan region\n",
      "M 4.6 - 241 km ENE of Gisborne, New Zealand\n",
      "M 2.9 - 23km W of Petrolia, CA\n",
      "M 6.1 - 69 km NNE of Port-Olry, Vanuatu\n",
      "M 2.5 - 41 km NW of Stanley, Idaho\n",
      "M 4.7 - 264 km ENE of Gisborne, New Zealand\n",
      "M 4.6 - 33 km W of Tola, Nicaragua\n",
      "M 3.1 - 6km WSW of St. Helena, CA\n",
      "M 5.0 - east of the North Island of New Zealand\n",
      "M 5.3 - off the east coast of the North Island of New Zealand\n",
      "M 5.4 - 178 km ENE of Gisborne, New Zealand\n",
      "M 4.9 - 73 km WSW of Palana, Russia\n",
      "M 4.5 - 24 km SSW of Santiago Tepextla, Mexico\n",
      "M 5.1 - 170 km NE of Gisborne, New Zealand\n",
      "M 4.7 - 243 km ENE of Gisborne, New Zealand\n",
      "M 4.6 - Taiwan region\n",
      "M 4.6 - 273 km ENE of Gisborne, New Zealand\n",
      "M 5.6 - southeast of the Loyalty Islands\n",
      "M 5.0 - 233 km ENE of Gisborne, New Zealand\n",
      "M 2.6 - 26 km E of Honaunau-Napoopoo, Hawaii\n",
      "M 4.3 - 2 km N of Isla, Mexico\n",
      "M 7.3 - 174 km NE of Gisborne, New Zealand\n",
      "M 2.9 - 27 km S of La Parguera, Puerto Rico\n",
      "M 2.6 - 5 km SSE of Guánica, Puerto Rico\n",
      "M 4.7 - 283 km ENE of Kuril’sk, Russia\n",
      "M 4.3 - 72 km SSW of Nanwalek, Alaska\n",
      "M 2.8 - 21 km WSW of Point MacKenzie, Alaska\n",
      "M 2.6 - 35 km ENE of Ugashik, Alaska\n",
      "M 4.5 - 46 km N of Claveria, Philippines\n",
      "M 4.6 - 13 km NNE of Grizáno, Greece\n",
      "M 3.1 - 236 km SE of Chiniak, Alaska\n",
      "M 4.7 - 9 km SSW of Hafnarfjörður, Iceland\n",
      "M 4.9 - 105 km NW of Malango, Solomon Islands\n",
      "M 4.8 - southeast of the Loyalty Islands\n",
      "M 4.3 - 207 km N of Kuril’sk, Russia\n",
      "M 4.7 - southeast of the Loyalty Islands\n",
      "M 4.4 - 155 km ENE of Hachinohe, Japan\n",
      "M 2.6 - 19 km WSW of Gabbs, Nevada\n",
      "M 4.3 - 84 km SE of King Cove, Alaska\n",
      "M 3.9 - 95 km SE of King Cove, Alaska\n",
      "M 3.0 - 269 km SE of Chiniak, Alaska\n"
     ]
    }
   ],
   "source": [
    "# pull out the title from each earthquake listing\n",
    "\n",
    "for q in quakes:\n",
    "    print(q['properties']['title'])"
   ]
  },
  {
   "cell_type": "code",
   "execution_count": 10,
   "metadata": {},
   "outputs": [
    {
     "name": "stdout",
     "output_type": "stream",
     "text": [
      "474\n"
     ]
    }
   ],
   "source": [
    "# pull out magnitudes and depths into a Pandas dataframe, using\n",
    "# a more compact Python syntax for iterating through lists\n",
    "\n",
    "d = {'magnitude': [q['properties']['mag'] for q in quakes],\n",
    "     'depth': [q['geometry']['coordinates'][2] for q in quakes]}\n",
    "\n",
    "df = pd.DataFrame.from_dict(d)\n",
    "\n",
    "# how many earthquakes were loaded into the dataframe?\n",
    "print(len(df))"
   ]
  },
  {
   "cell_type": "code",
   "execution_count": 11,
   "metadata": {},
   "outputs": [
    {
     "name": "stdout",
     "output_type": "stream",
     "text": [
      "   magnitude       depth\n",
      "0       2.47   32.240002\n",
      "1       4.80    6.950000\n",
      "2       5.00  552.590000\n",
      "3       2.85   16.950000\n",
      "4       4.70   10.000000\n"
     ]
    }
   ],
   "source": [
    "# print the first few lines of data\n",
    "\n",
    "print(df.head())"
   ]
  },
  {
   "cell_type": "code",
   "execution_count": 12,
   "metadata": {},
   "outputs": [
    {
     "name": "stdout",
     "output_type": "stream",
     "text": [
      "        magnitude       depth\n",
      "count  474.000000  474.000000\n",
      "mean     4.423692   37.023107\n",
      "std      1.051540   84.885820\n",
      "min      2.460000   -3.350000\n",
      "25%      3.625000   10.000000\n",
      "50%      4.700000   10.000000\n",
      "75%      5.100000   17.865000\n",
      "max      8.100000  600.770000\n"
     ]
    }
   ],
   "source": [
    "# print some descriptive statistics\n",
    "\n",
    "print(df.describe())"
   ]
  },
  {
   "cell_type": "code",
   "execution_count": 13,
   "metadata": {},
   "outputs": [
    {
     "data": {
      "text/plain": [
       "<AxesSubplot:xlabel='magnitude', ylabel='depth'>"
      ]
     },
     "execution_count": 13,
     "metadata": {},
     "output_type": "execute_result"
    },
    {
     "data": {
      "image/png": "[encoded data removed]",
      "text/plain": [
       "<Figure size 432x288 with 1 Axes>"
      ]
     },
     "metadata": {
      "needs_background": "light"
     },
     "output_type": "display_data"
    }
   ],
   "source": [
    "# plot the depth vs. magnitude\n",
    "\n",
    "df.plot(x='magnitude', y='depth', kind='scatter')"
   ]
  },
  {
   "cell_type": "code",
   "execution_count": 14,
   "metadata": {},
   "outputs": [
    {
     "name": "stdout",
     "output_type": "stream",
     "text": [
      "file saved\n"
     ]
    }
   ],
   "source": [
    "# save the dataframe to disk\n",
    "\n",
    "df.to_csv('usgs_earthquake_data.csv')\n",
    "\n",
    "print('file saved')"
   ]
  },
  {
   "cell_type": "code",
   "execution_count": 15,
   "metadata": {},
   "outputs": [
    {
     "name": "stdout",
     "output_type": "stream",
     "text": [
      "   Unnamed: 0  magnitude       depth\n",
      "0           0       2.47   32.240002\n",
      "1           1       4.80    6.950000\n",
      "2           2       5.00  552.590000\n",
      "3           3       2.85   16.950000\n",
      "4           4       4.70   10.000000\n"
     ]
    }
   ],
   "source": [
    "# read it back later\n",
    "\n",
    "new_df = pd.read_csv('usgs_earthquake_data.csv')\n",
    "\n",
    "print(new_df.head())"
   ]
  },
  {
   "cell_type": "code",
   "execution_count": null,
   "metadata": {},
   "outputs": [],
   "source": []
  },
  {
   "cell_type": "code",
   "execution_count": null,
   "metadata": {},
   "outputs": [],
   "source": []
  },
  {
   "cell_type": "code",
   "execution_count": null,
   "metadata": {},
   "outputs": [],
   "source": []
  },
  {
   "cell_type": "markdown",
   "metadata": {},
   "source": [
    "# Part 2: Querying an API endpoint\n",
    "\n",
    "### Google Maps Geocoding API\n",
    "\n",
    "Google has lots of APIs that let you access its services through code instead of through GUI apps. This one from Google Maps lets you look up the latitude-longitude coordinates of street addresses.\n",
    "\n",
    "It works similarly to the earthquakes example, but with query parameters added to the URL endpoint!\n",
    "\n",
    "**API documentation:**  \n",
    "https://developers.google.com/maps/documentation/geocoding/intro\n",
    "\n",
    "**API endpoint:**  \n",
    "https://maps.googleapis.com/maps/api/geocode/json\n",
    "\n",
    "**API endpoint with query parameters:**  \n",
    "https://maps.googleapis.com/maps/api/geocode/json?address=Wurster+Hall"
   ]
  },
  {
   "cell_type": "code",
   "execution_count": 17,
   "metadata": {},
   "outputs": [],
   "source": [
    "import json    # library for working with JSON-formatted text strings\n",
    "import requests  # library for accessing content from web URLs\n",
    "\n",
    "import pprint  # library for making Python data structures readable\n",
    "pp = pprint.PrettyPrinter()"
   ]
  },
  {
   "cell_type": "code",
   "execution_count": 18,
   "metadata": {},
   "outputs": [
    {
     "name": "stdout",
     "output_type": "stream",
     "text": [
      "https://maps.googleapis.com/maps/api/geocode/json?address=young+library+uky\n"
     ]
    }
   ],
   "source": [
    "# we have to encode the search query so that it can be passed as a URL, \n",
    "# with spaces and other special characters removed\n",
    "\n",
    "endpoint = 'https://maps.googleapis.com/maps/api/geocode/json'\n",
    "\n",
    "params = {'address': 'young library uky'}\n",
    "\n",
    "url = requests.Request('GET', endpoint, params=params).prepare().url\n",
    "print(url)"
   ]
  },
  {
   "cell_type": "code",
   "execution_count": 19,
   "metadata": {},
   "outputs": [
    {
     "name": "stdout",
     "output_type": "stream",
     "text": [
      "{'error_message': 'You must use an API key to authenticate each request to Google Maps Platform APIs. For additional information, please refer to http://g.co/dev/maps-no-account', 'results': [], 'status': 'REQUEST_DENIED'}\n"
     ]
    }
   ],
   "source": [
    "# download and parse the results\n",
    "\n",
    "response = requests.get(url)\n",
    "results = response.text\n",
    "data = json.loads(results)\n",
    "\n",
    "print(data)"
   ]
  },
  {
   "cell_type": "code",
   "execution_count": 23,
   "metadata": {},
   "outputs": [
    {
     "name": "stdout",
     "output_type": "stream",
     "text": [
      "{'error_message': 'You must use an API key to authenticate each request to '\n",
      "                  'Google Maps Platform APIs. For additional information, '\n",
      "                  'please refer to http://g.co/dev/maps-no-account',\n",
      " 'results': [],\n",
      " 'status': 'REQUEST_DENIED'}\n"
     ]
    }
   ],
   "source": [
    "# print it more nicely\n",
    "\n",
    "pp.pprint(data)"
   ]
  },
  {
   "cell_type": "code",
   "execution_count": 56,
   "metadata": {},
   "outputs": [],
   "source": [
    "# pull out the lat-lon coordinates\n",
    "\n",
    "for r in data['results']:\n",
    "    coords = r['geometry']['location']\n",
    "    print(coords['lat'], coords['lng'])"
   ]
  },
  {
   "cell_type": "markdown",
   "metadata": {},
   "source": [
    "### Exercises\n",
    "\n",
    "1. Search for some other addresses or landmarks!\n",
    "2. Take a look at the [API documentation](https://developers.google.com/maps/documentation/geocoding/intro). What are the usage limits?"
   ]
  },
  {
   "cell_type": "code",
   "execution_count": null,
   "metadata": {},
   "outputs": [],
   "source": []
  },
  {
   "cell_type": "code",
   "execution_count": null,
   "metadata": {},
   "outputs": [],
   "source": []
  },
  {
   "cell_type": "code",
   "execution_count": null,
   "metadata": {},
   "outputs": [],
   "source": []
  },
  {
   "cell_type": "markdown",
   "metadata": {},
   "source": [
    "# Part 3: Querying an API with authentication\n",
    "\n",
    "### Twitter REST APIs\n",
    "\n",
    "Twitter's APIs also operate over the web, but they require a back-and-forth authentication process at the beginning of each connection. It's easier to have a Python library handle this than to create the query URLs ourselves.\n",
    "\n",
    "The Twitter \"REST\" APIs perform stand-alone operations: you submit a query and receive results, like in earlier examples. ([REST](https://en.wikipedia.org/wiki/Representational_state_transfer) is a particular set of guidelines that many APIs follow.) Twitter also has a \"streaming\" API that continues sending results in real time until you disconnect.\n",
    "\n",
    "**API documentation:**  \n",
    "https://dev.twitter.com/rest/public  \n",
    "https://dev.twitter.com/overview/api/tweets\n",
    "\n",
    "**Documentation for the Python helper library**:  \n",
    "https://github.com/geduldig/TwitterAPI"
   ]
  },
  {
   "cell_type": "code",
   "execution_count": 25,
   "metadata": {},
   "outputs": [],
   "source": [
    "from TwitterAPI import TwitterAPI\n",
    "\n",
    "import pprint  # library for making Python data structures readable\n",
    "pp = pprint.PrettyPrinter()"
   ]
  },
  {
   "cell_type": "code",
   "execution_count": 26,
   "metadata": {},
   "outputs": [],
   "source": [
    "# import API credentials from keys.py file in the\n",
    "# same directory as this notebook\n",
    "\n",
    "from keys import *"
   ]
  },
  {
   "cell_type": "code",
   "execution_count": 27,
   "metadata": {},
   "outputs": [
    {
     "name": "stdout",
     "output_type": "stream",
     "text": [
      "Connection is set up but not tested\n"
     ]
    }
   ],
   "source": [
    "# set up an API connection using credentials from the keys file\n",
    "\n",
    "api = TwitterAPI(consumer_key, consumer_secret, \n",
    "                 access_token, access_token_secret)\n",
    "\n",
    "print(\"Connection is set up but not tested\")"
   ]
  },
  {
   "cell_type": "markdown",
   "metadata": {},
   "source": [
    "### Making a simple data request"
   ]
  },
  {
   "cell_type": "code",
   "execution_count": 28,
   "metadata": {},
   "outputs": [
    {
     "name": "stdout",
     "output_type": "stream",
     "text": [
      "RT @KentuckyTrack: Our #NCAATF campaign begins tomorrow with @Annika2019 making her debut in the NCAA Indoor Championships Pentathlon \n",
      "\n",
      "Mee…\n"
     ]
    }
   ],
   "source": [
    "# most recent tweet from @UCBerkeley's timeline\n",
    "\n",
    "endpoint = 'statuses/user_timeline'\n",
    "params = {\n",
    "    'screen_name': 'UKAthletics', \n",
    "    'count': 1\n",
    "}\n",
    "r = api.request(endpoint, params)\n",
    "\n",
    "for tweet in r.get_iterator():\n",
    "    print(tweet['text'])"
   ]
  },
  {
   "cell_type": "code",
   "execution_count": 29,
   "metadata": {},
   "outputs": [
    {
     "name": "stdout",
     "output_type": "stream",
     "text": [
      "{'contributors': None,\n",
      " 'coordinates': None,\n",
      " 'created_at': 'Wed Mar 10 23:09:57 +0000 2021',\n",
      " 'entities': {'hashtags': [{'indices': [23, 30], 'text': 'NCAATF'}],\n",
      "              'symbols': [],\n",
      "              'urls': [],\n",
      "              'user_mentions': [{'id': 18022423,\n",
      "                                 'id_str': '18022423',\n",
      "                                 'indices': [3, 17],\n",
      "                                 'name': 'UK Track & Field',\n",
      "                                 'screen_name': 'KentuckyTrack'},\n",
      "                                {'id': 696852643109404672,\n",
      "                                 'id_str': '696852643109404672',\n",
      "                                 'indices': [61, 72],\n",
      "                                 'name': 'Annika Williams',\n",
      "                                 'screen_name': 'Annika2019'}]},\n",
      " 'favorite_count': 0,\n",
      " 'favorited': False,\n",
      " 'geo': None,\n",
      " 'id': 1369787641546293258,\n",
      " 'id_str': '1369787641546293258',\n",
      " 'in_reply_to_screen_name': None,\n",
      " 'in_reply_to_status_id': None,\n",
      " 'in_reply_to_status_id_str': None,\n",
      " 'in_reply_to_user_id': None,\n",
      " 'in_reply_to_user_id_str': None,\n",
      " 'is_quote_status': False,\n",
      " 'lang': 'en',\n",
      " 'place': None,\n",
      " 'retweet_count': 6,\n",
      " 'retweeted': False,\n",
      " 'retweeted_status': {'contributors': None,\n",
      "                      'coordinates': None,\n",
      "                      'created_at': 'Wed Mar 10 23:09:47 +0000 2021',\n",
      "                      'entities': {'hashtags': [{'indices': [4, 11],\n",
      "                                                 'text': 'NCAATF'}],\n",
      "                                   'symbols': [],\n",
      "                                   'urls': [{'display_url': 'twitter.com/i/web/status/1…',\n",
      "                                             'expanded_url': 'https://twitter.com/i/web/status/1369787598743367680',\n",
      "                                             'indices': [116, 139],\n",
      "                                             'url': 'https://t.co/TadfJmQowy'}],\n",
      "                                   'user_mentions': [{'id': 696852643109404672,\n",
      "                                                      'id_str': '696852643109404672',\n",
      "                                                      'indices': [42, 53],\n",
      "                                                      'name': 'Annika Williams',\n",
      "                                                      'screen_name': 'Annika2019'}]},\n",
      "                      'favorite_count': 15,\n",
      "                      'favorited': False,\n",
      "                      'geo': None,\n",
      "                      'id': 1369787598743367680,\n",
      "                      'id_str': '1369787598743367680',\n",
      "                      'in_reply_to_screen_name': None,\n",
      "                      'in_reply_to_status_id': None,\n",
      "                      'in_reply_to_status_id_str': None,\n",
      "                      'in_reply_to_user_id': None,\n",
      "                      'in_reply_to_user_id_str': None,\n",
      "                      'is_quote_status': False,\n",
      "                      'lang': 'en',\n",
      "                      'place': None,\n",
      "                      'possibly_sensitive': False,\n",
      "                      'retweet_count': 6,\n",
      "                      'retweeted': False,\n",
      "                      'source': '<a href=\"https://mobile.twitter.com\" '\n",
      "                                'rel=\"nofollow\">Twitter Web App</a>',\n",
      "                      'text': 'Our #NCAATF campaign begins tomorrow with '\n",
      "                              '@Annika2019 making her debut in the NCAA Indoor '\n",
      "                              'Championships Pentathlon… '\n",
      "                              'https://t.co/TadfJmQowy',\n",
      "                      'truncated': True,\n",
      "                      'user': {'contributors_enabled': False,\n",
      "                               'created_at': 'Wed Dec 10 16:10:20 +0000 2008',\n",
      "                               'default_profile': False,\n",
      "                               'default_profile_image': False,\n",
      "                               'description': 'The official Twitter account of '\n",
      "                                              'Kentucky Track and Field and '\n",
      "                                              'Cross Country.',\n",
      "                               'entities': {'description': {'urls': []},\n",
      "                                            'url': {'urls': [{'display_url': 'ukathletics.com/index.aspx?pat…',\n",
      "                                                              'expanded_url': 'http://ukathletics.com/index.aspx?path=track',\n",
      "                                                              'indices': [0,\n",
      "                                                                          23],\n",
      "                                                              'url': 'https://t.co/MLXr9Zp3yn'}]}},\n",
      "                               'favourites_count': 1758,\n",
      "                               'follow_request_sent': False,\n",
      "                               'followers_count': 17628,\n",
      "                               'following': False,\n",
      "                               'friends_count': 590,\n",
      "                               'geo_enabled': True,\n",
      "                               'has_extended_profile': False,\n",
      "                               'id': 18022423,\n",
      "                               'id_str': '18022423',\n",
      "                               'is_translation_enabled': False,\n",
      "                               'is_translator': False,\n",
      "                               'lang': None,\n",
      "                               'listed_count': 161,\n",
      "                               'location': 'Lexington, KY',\n",
      "                               'name': 'UK Track & Field',\n",
      "                               'notifications': False,\n",
      "                               'profile_background_color': '2B22C3',\n",
      "                               'profile_background_image_url': 'http://abs.twimg.com/images/themes/theme1/bg.png',\n",
      "                               'profile_background_image_url_https': 'https://abs.twimg.com/images/themes/theme1/bg.png',\n",
      "                               'profile_background_tile': False,\n",
      "                               'profile_banner_url': 'https://pbs.twimg.com/profile_banners/18022423/1605497101',\n",
      "                               'profile_image_url': 'http://pbs.twimg.com/profile_images/1250891831958736897/YRTD0Mhx_normal.jpg',\n",
      "                               'profile_image_url_https': 'https://pbs.twimg.com/profile_images/1250891831958736897/YRTD0Mhx_normal.jpg',\n",
      "                               'profile_link_color': '0803B0',\n",
      "                               'profile_sidebar_border_color': 'FFFFFF',\n",
      "                               'profile_sidebar_fill_color': 'D5D9DC',\n",
      "                               'profile_text_color': '4B7132',\n",
      "                               'profile_use_background_image': True,\n",
      "                               'protected': False,\n",
      "                               'screen_name': 'KentuckyTrack',\n",
      "                               'statuses_count': 11057,\n",
      "                               'time_zone': None,\n",
      "                               'translator_type': 'none',\n",
      "                               'url': 'https://t.co/MLXr9Zp3yn',\n",
      "                               'utc_offset': None,\n",
      "                               'verified': True}},\n",
      " 'source': '<a href=\"http://twitter.com/download/iphone\" '\n",
      "           'rel=\"nofollow\">Twitter for iPhone</a>',\n",
      " 'text': 'RT @KentuckyTrack: Our #NCAATF campaign begins tomorrow with '\n",
      "         '@Annika2019 making her debut in the NCAA Indoor Championships '\n",
      "         'Pentathlon \\n'\n",
      "         '\\n'\n",
      "         'Mee…',\n",
      " 'truncated': False,\n",
      " 'user': {'contributors_enabled': False,\n",
      "          'created_at': 'Tue Mar 17 18:41:37 +0000 2009',\n",
      "          'default_profile': False,\n",
      "          'default_profile_image': False,\n",
      "          'description': 'The official Twitter account of the University of '\n",
      "                         'Kentucky Athletics Department. Facebook: Kentucky '\n",
      "                         'Wildcats; Instagram: ukathletics; #WeAreUK '\n",
      "                         '#BlueGetsIn #BBN',\n",
      "          'entities': {'description': {'urls': []},\n",
      "                       'url': {'urls': [{'display_url': 'UKathletics.com/Tickets',\n",
      "                                         'expanded_url': 'http://UKathletics.com/Tickets',\n",
      "                                         'indices': [0, 23],\n",
      "                                         'url': 'https://t.co/8igZBVnitf'}]}},\n",
      "          'favourites_count': 5130,\n",
      "          'follow_request_sent': False,\n",
      "          'followers_count': 331508,\n",
      "          'following': False,\n",
      "          'friends_count': 870,\n",
      "          'geo_enabled': True,\n",
      "          'has_extended_profile': False,\n",
      "          'id': 24929053,\n",
      "          'id_str': '24929053',\n",
      "          'is_translation_enabled': False,\n",
      "          'is_translator': False,\n",
      "          'lang': None,\n",
      "          'listed_count': 1331,\n",
      "          'location': 'Lexington, KY',\n",
      "          'name': 'Kentucky Athletics',\n",
      "          'notifications': False,\n",
      "          'profile_background_color': '000738',\n",
      "          'profile_background_image_url': 'http://abs.twimg.com/images/themes/theme9/bg.gif',\n",
      "          'profile_background_image_url_https': 'https://abs.twimg.com/images/themes/theme9/bg.gif',\n",
      "          'profile_background_tile': False,\n",
      "          'profile_banner_url': 'https://pbs.twimg.com/profile_banners/24929053/1599234537',\n",
      "          'profile_image_url': 'http://pbs.twimg.com/profile_images/1250891922652254209/BT2LftM__normal.jpg',\n",
      "          'profile_image_url_https': 'https://pbs.twimg.com/profile_images/1250891922652254209/BT2LftM__normal.jpg',\n",
      "          'profile_link_color': '084AE7',\n",
      "          'profile_sidebar_border_color': 'FFFFFF',\n",
      "          'profile_sidebar_fill_color': 'FFFFFF',\n",
      "          'profile_text_color': '787878',\n",
      "          'profile_use_background_image': True,\n",
      "          'protected': False,\n",
      "          'screen_name': 'UKAthletics',\n",
      "          'statuses_count': 60935,\n",
      "          'time_zone': None,\n",
      "          'translator_type': 'none',\n",
      "          'url': 'https://t.co/8igZBVnitf',\n",
      "          'utc_offset': None,\n",
      "          'verified': True}}\n"
     ]
    }
   ],
   "source": [
    "# what other data is there?\n",
    "\n",
    "pp.pprint(tweet)"
   ]
  },
  {
   "cell_type": "markdown",
   "metadata": {},
   "source": [
    "### Other API endpoints allow different types of searches"
   ]
  },
  {
   "cell_type": "code",
   "execution_count": 31,
   "metadata": {},
   "outputs": [
    {
     "name": "stdout",
     "output_type": "stream",
     "text": [
      "@Trav_The_Man Hopefully they beat them so at least we can say that Duke was knocked out before us #bbn #holla\n",
      "\n",
      "RT @UKMitchBarnhart: I'm thankful for what UK HealthCare is doing to test, vaccinate and keep countless Kentuckians safe during the pandemi…\n",
      "\n",
      "RT @UKBaseball: Good morning, #BBN! Start your day with a little Web Gem action, courtesy of @AustinSchultz23. \n",
      "\n",
      "#WeAreUK | #WebGemWednesda…\n",
      "\n",
      "I’ll never say I hope Louisville wins. But I REALLY hope Duke loses tonight. #bbn\n",
      "\n",
      "Its tough to defeat a team 3 in row.   2012 Kentucky team lost to Vanderbuilt for the last game of the Tournament.… https://t.co/OOQ5eVgeKw\n",
      "\n"
     ]
    }
   ],
   "source": [
    "# search for public tweets about #BBN\n",
    "\n",
    "endpoint = 'search/tweets'\n",
    "params = {\n",
    "    'q': '#BBN', \n",
    "    'count': 5\n",
    "}\n",
    "r = api.request(endpoint, params)\n",
    "\n",
    "for tweet in r.get_iterator():\n",
    "    print(tweet['text'] + '\\n')"
   ]
  },
  {
   "cell_type": "code",
   "execution_count": 32,
   "metadata": {},
   "outputs": [
    {
     "name": "stdout",
     "output_type": "stream",
     "text": [
      "bicon mark lee #PinkMarkOrNot https://t.co/bnS5SiLltO\n",
      "\n",
      "RT @madinabarkatkha: प्रेम के लिए रुतबा नही। एक दिल ही काफी है https://t.co/Z4UcApha71\n",
      "\n",
      "भारतीय सुरक्षाबलों ने बीते 2 साल में देश में घुसपैठ की कोशिश कर रहे 3 हजार से अधिक लोगों को पकड़ा [Source: दैनिक भा… https://t.co/SSth4z7uLw\n",
      "\n",
      "@RudexArrogant Tu ajaa padi ta kisa to v ni sahe jande 🤗🤗🤗\n",
      "\n",
      "RT @Amdmum: 8 मार्च विश्व महिला दिवस के उपलक्ष्य में  वापी महिला उत्थान मंडल की बहनों द्वारा बापूजी की शीघ्र रिहाई की मांग करते हुए  संस्कृ…\n",
      "\n"
     ]
    }
   ],
   "source": [
    "# search for public tweets in Hindi\n",
    "\n",
    "endpoint = 'search/tweets'\n",
    "params = {\n",
    "    'q': '*', \n",
    "    'lang': 'hi', \n",
    "    'count': 5\n",
    "} \n",
    "r = api.request(endpoint, params)\n",
    "\n",
    "for tweet in r.get_iterator():\n",
    "    print(tweet['text'] + '\\n')"
   ]
  },
  {
   "cell_type": "code",
   "execution_count": 33,
   "metadata": {},
   "outputs": [
    {
     "name": "stdout",
     "output_type": "stream",
     "text": [
      "Who has weed in Lexington,ky\n",
      "\n",
      "Darty SZN back to full effect!!🍺🍺 #catsby90 #uk Let’s goo been a min @ University of Kentucky https://t.co/IpK8q3Wmsj\n",
      "\n",
      "Blessings on blessings, still got sum 2 prove...💯 https://t.co/rfrAAGjxNy\n",
      "\n"
     ]
    }
   ],
   "source": [
    "# search for public tweets geotagged near the UK campus\n",
    "\n",
    "endpoint = 'search/tweets'\n",
    "params = {\n",
    "    'q': '*', \n",
    "    'geocode': '38.034,-84.500,0.5km', \n",
    "    'count': 10\n",
    "} \n",
    "r = api.request(endpoint, params)\n",
    "\n",
    "for tweet in r.get_iterator():\n",
    "    print(tweet['text'] + '\\n')"
   ]
  },
  {
   "cell_type": "markdown",
   "metadata": {},
   "source": [
    "### Exercises\n",
    "\n",
    "1. Try some different search queries!\n",
    "2. Display some more data fields in addition to the tweet text"
   ]
  },
  {
   "cell_type": "code",
   "execution_count": 35,
   "metadata": {},
   "outputs": [
    {
     "name": "stdout",
     "output_type": "stream",
     "text": [
      "م اسمع الاغانييي ولا يشغلوننييي\n",
      "\n",
      "@M52259485 اظن جوجل هيفيدك احسن و هتلاقي شروحات كتيره. حكايه تاريخيه لطيفه و مسليه. 😀\n",
      "\n",
      "@rem_gh_ @SaudiMOH نفس المشكله عندي\n",
      "\n",
      "@lamya33079641 مغنيين\n",
      "\n",
      "RT @daystar_19: \"أحب هذه المرونة بيننا، أحب أن يتحدث الواحد منّا للآخر وكأنه يحادث نفسه، لا يخاف ولا يتردد\"\n",
      "\n"
     ]
    }
   ],
   "source": [
    "# search for public tweets in Arabic\n",
    "\n",
    "endpoint = 'search/tweets'\n",
    "params = {\n",
    "    'q': '*', \n",
    "    'lang': 'ar', \n",
    "    'count': 5\n",
    "} \n",
    "r = api.request(endpoint, params)\n",
    "\n",
    "for tweet in r.get_iterator():\n",
    "    print(tweet['text'] + '\\n')"
   ]
  },
  {
   "cell_type": "code",
   "execution_count": 51,
   "metadata": {},
   "outputs": [
    {
     "ename": "TwitterRequestError",
     "evalue": "('Location track items must be given as pairs of comma separated lat/longs\\r\\n',) (406): Location track items must be given as pairs of comma separated lat/longs\r\n",
     "output_type": "error",
     "traceback": [
      "\u001b[1;31m---------------------------------------------------------------------------\u001b[0m",
      "\u001b[1;31mTwitterRequestError\u001b[0m                       Traceback (most recent call last)",
      "\u001b[1;32m<ipython-input-51-0a12a6560c82>\u001b[0m in \u001b[0;36m<module>\u001b[1;34m\u001b[0m\n\u001b[0;32m      9\u001b[0m \u001b[1;31m# 'enumerate' lets us count tweets as we receive them\u001b[0m\u001b[1;33m\u001b[0m\u001b[1;33m\u001b[0m\u001b[1;33m\u001b[0m\u001b[0m\n\u001b[0;32m     10\u001b[0m \u001b[1;33m\u001b[0m\u001b[0m\n\u001b[1;32m---> 11\u001b[1;33m \u001b[1;32mfor\u001b[0m \u001b[0mi\u001b[0m\u001b[1;33m,\u001b[0m \u001b[0mtweet\u001b[0m \u001b[1;32min\u001b[0m \u001b[0menumerate\u001b[0m\u001b[1;33m(\u001b[0m\u001b[0mr\u001b[0m\u001b[1;33m.\u001b[0m\u001b[0mget_iterator\u001b[0m\u001b[1;33m(\u001b[0m\u001b[1;33m)\u001b[0m\u001b[1;33m)\u001b[0m\u001b[1;33m:\u001b[0m\u001b[1;33m\u001b[0m\u001b[1;33m\u001b[0m\u001b[0m\n\u001b[0m\u001b[0;32m     12\u001b[0m     \u001b[0mprint\u001b[0m\u001b[1;33m(\u001b[0m\u001b[0mtweet\u001b[0m\u001b[1;33m[\u001b[0m\u001b[1;34m'created_at'\u001b[0m\u001b[1;33m]\u001b[0m\u001b[1;33m)\u001b[0m\u001b[1;33m\u001b[0m\u001b[1;33m\u001b[0m\u001b[0m\n\u001b[0;32m     13\u001b[0m     \u001b[0mprint\u001b[0m\u001b[1;33m(\u001b[0m\u001b[0mtweet\u001b[0m\u001b[1;33m[\u001b[0m\u001b[1;34m'place'\u001b[0m\u001b[1;33m]\u001b[0m\u001b[1;33m[\u001b[0m\u001b[1;34m'full_name'\u001b[0m\u001b[1;33m]\u001b[0m \u001b[1;33m+\u001b[0m \u001b[1;34m', '\u001b[0m \u001b[1;33m+\u001b[0m \u001b[0mtweet\u001b[0m\u001b[1;33m[\u001b[0m\u001b[1;34m'place'\u001b[0m\u001b[1;33m]\u001b[0m\u001b[1;33m[\u001b[0m\u001b[1;34m'country'\u001b[0m\u001b[1;33m]\u001b[0m\u001b[1;33m)\u001b[0m\u001b[1;33m\u001b[0m\u001b[1;33m\u001b[0m\u001b[0m\n",
      "\u001b[1;32m~\\Anaconda3\\lib\\site-packages\\TwitterAPI\\TwitterAPI.py\u001b[0m in \u001b[0;36mget_iterator\u001b[1;34m(self)\u001b[0m\n\u001b[0;32m    255\u001b[0m         \"\"\"\n\u001b[0;32m    256\u001b[0m         \u001b[1;32mif\u001b[0m \u001b[0mself\u001b[0m\u001b[1;33m.\u001b[0m\u001b[0mresponse\u001b[0m\u001b[1;33m.\u001b[0m\u001b[0mstatus_code\u001b[0m \u001b[1;33m!=\u001b[0m \u001b[1;36m200\u001b[0m\u001b[1;33m:\u001b[0m\u001b[1;33m\u001b[0m\u001b[1;33m\u001b[0m\u001b[0m\n\u001b[1;32m--> 257\u001b[1;33m             \u001b[1;32mraise\u001b[0m \u001b[0mTwitterRequestError\u001b[0m\u001b[1;33m(\u001b[0m\u001b[0mself\u001b[0m\u001b[1;33m.\u001b[0m\u001b[0mresponse\u001b[0m\u001b[1;33m.\u001b[0m\u001b[0mstatus_code\u001b[0m\u001b[1;33m,\u001b[0m \u001b[0mmsg\u001b[0m\u001b[1;33m=\u001b[0m\u001b[0mself\u001b[0m\u001b[1;33m.\u001b[0m\u001b[0mresponse\u001b[0m\u001b[1;33m.\u001b[0m\u001b[0mtext\u001b[0m\u001b[1;33m)\u001b[0m\u001b[1;33m\u001b[0m\u001b[1;33m\u001b[0m\u001b[0m\n\u001b[0m\u001b[0;32m    258\u001b[0m \u001b[1;33m\u001b[0m\u001b[0m\n\u001b[0;32m    259\u001b[0m         \u001b[1;32mif\u001b[0m \u001b[0mself\u001b[0m\u001b[1;33m.\u001b[0m\u001b[0moptions\u001b[0m\u001b[1;33m[\u001b[0m\u001b[1;34m'is_stream'\u001b[0m\u001b[1;33m]\u001b[0m\u001b[1;33m:\u001b[0m\u001b[1;33m\u001b[0m\u001b[1;33m\u001b[0m\u001b[0m\n",
      "\u001b[1;31mTwitterRequestError\u001b[0m: ('Location track items must be given as pairs of comma separated lat/longs\\r\\n',) (406): Location track items must be given as pairs of comma separated lat/longs\r\n"
     ]
    }
   ],
   "source": [
    "# Twitter limits simultaneous connections to the streaming API,\n",
    "# so this part may not work using the demo API keys during class\n",
    "\n",
    "endpoint = 'statuses/filter'\n",
    "params = {'locations': '38.020082774591316,-84.51025393999551'}\n",
    "r = api.request(endpoint, params)\n",
    "LIMIT = 20\n",
    "\n",
    "# 'enumerate' lets us count tweets as we receive them\n",
    "\n",
    "for i, tweet in enumerate(r.get_iterator()):\n",
    "    print(tweet['created_at'])\n",
    "    print(tweet['place']['full_name'] + ', ' + tweet['place']['country'])\n",
    "    print(tweet['text'] + '\\n')\n",
    "    if (i > LIMIT): break\n",
    "\n",
    "# close the streaming connection\n",
    "r.close()"
   ]
  },
  {
   "cell_type": "code",
   "execution_count": null,
   "metadata": {},
   "outputs": [],
   "source": []
  },
  {
   "cell_type": "markdown",
   "metadata": {},
   "source": [
    "### Bonus: Streaming live tweets in real time "
   ]
  },
  {
   "cell_type": "code",
   "execution_count": 34,
   "metadata": {},
   "outputs": [
    {
     "name": "stdout",
     "output_type": "stream",
     "text": [
      "Thu Mar 11 00:28:59 +0000 2021\n",
      "Draper, UT, United States\n",
      "@punk_003 @TannerBham Same. Took me lots of practice and the right product (Goof Proof Brow pencil from Benefit) to… https://t.co/OoeN7uIPN1\n",
      "\n",
      "Thu Mar 11 00:28:59 +0000 2021\n",
      "Rio de Janeiro, Brasil, Brasil\n",
      "@ricapriotti @CarlosBolsonaro @jairbolsonaro Fascismo é malvadao demais mesmo, ta matando no mundo todo. Esse é o n… https://t.co/PUgLfAlWRc\n",
      "\n",
      "Thu Mar 11 00:29:00 +0000 2021\n",
      "Arlington, VA, United States\n",
      "If Duke wins this game they deserve it - not sure how you come back from those final few mins\n",
      "\n",
      "Thu Mar 11 00:28:59 +0000 2021\n",
      "La victoria, Peru, Peru\n",
      "@hombredeltiempo la vi! #lamasemocionada https://t.co/7jOYT6rmjP\n",
      "\n",
      "Thu Mar 11 00:29:00 +0000 2021\n",
      "Caracas, Venezuela, Venezuela\n",
      "Panes de mi hermano chef Rafael Orozco @dulcesyespumillasester  pura calidad en Capital District https://t.co/DxmUHFfYN6\n",
      "\n",
      "Thu Mar 11 00:29:00 +0000 2021\n",
      "Ota-ku, Tokyo, Japan\n",
      "現場内でよく見られる『心理的安全性重視勢の立ち回り』とかもあんじゃろな。\n",
      "\n",
      "Thu Mar 11 00:29:00 +0000 2021\n",
      "San isidro, Peru, Peru\n",
      "@partidomorado 🤣🤣🤣🤣🤣🤣🔥🔥🔥\n",
      "\n",
      "Thu Mar 11 00:29:00 +0000 2021\n",
      "Rio de Janeiro, Brasil, Brasil\n",
      "amor é só de mãe eu aprendi com o tempo 🎶🥶\n",
      "\n",
      "Thu Mar 11 00:29:00 +0000 2021\n",
      "La Molina, Peru, Peru\n",
      "@canalN_ Preguntalo si conoce la eficacia de otros  Vacunas en el país.... que argumentos tan limitados   preguntal… https://t.co/HV22d9rV57\n",
      "\n",
      "Thu Mar 11 00:29:00 +0000 2021\n",
      "Красноярский край, Россия, Россия\n",
      "Добровольцы-дворники, запрещенные овощи, судьба Предмостной: главные события в #Красноярском крае за 10 марта… https://t.co/98tCu46GXJ\n",
      "\n",
      "Thu Mar 11 00:29:00 +0000 2021\n",
      "Dearborn, MI, United States\n",
      "@mojodean @FreeeBird1978 @bobfc1034 @detnurselady It's incredible how many parts of this movie just wouldn't *ahem*... fly... today 😂\n",
      "\n",
      "Thu Mar 11 00:29:00 +0000 2021\n",
      "Pacaembu, Brasil, Brasil\n",
      "https://t.co/tL2RJ850vG\n",
      "\n",
      "Thu Mar 11 00:29:00 +0000 2021\n",
      "Vila Nova de Gaia, Portugal, Portugal\n",
      "@terespinto_ BATI MAL AHAHAHAH AK47\n",
      "\n",
      "Thu Mar 11 00:29:00 +0000 2021\n",
      "Aracaju, Brasil, Brasil\n",
      "A verdade dói, mais ela tem que ser dita.\n",
      "\n",
      "Thu Mar 11 00:29:00 +0000 2021\n",
      "East Stroudsburg, PA, United States\n",
      "😂\n",
      "\n",
      "Thu Mar 11 00:29:00 +0000 2021\n",
      "Williamstown, NJ, United States\n",
      "Got my first dose of the Pfizer vaccine this afternoon at the AC Convention Center.  Kudos to the National Guard. I… https://t.co/N8X4QRbzGZ\n",
      "\n",
      "Thu Mar 11 00:29:00 +0000 2021\n",
      "Afyonkarahisar, Türkiye, Türkiye\n",
      "Her gece aynı saatlerde uyanıp su içmek ve bir daha uyuyamamak. Bu oluşum kısır döngüyü nasıl kırcam yaa ben :'(\n",
      "\n",
      "Thu Mar 11 00:29:00 +0000 2021\n",
      "Morgantown, WV, United States\n",
      "@SebouhMajarian 😂😂😂😂\n",
      "\n",
      "Thu Mar 11 00:29:00 +0000 2021\n",
      "Florianópolis, Brasil, Brasil\n",
      "🤣🤣🤣🤣\n",
      "\n",
      "Thu Mar 11 00:29:00 +0000 2021\n",
      "Guadeloupe, Guadeloupe\n",
      "J’ai envie de me def.\n",
      "\n",
      "Thu Mar 11 00:29:00 +0000 2021\n",
      "Los Angeles, CA, United States\n",
      "@izadiofficial Where’s the dislike button at???\n",
      "\n",
      "Thu Mar 11 00:29:00 +0000 2021\n",
      "Ota-ku, Tokyo, Japan\n",
      "ちな。\n",
      "\n",
      "ぼくは派遣の時が一番報連相の心理的ハードル低かった。\n",
      "\n",
      "だって、継続的な人間関係じゃないし。職務範囲ハッキリしてたしな。\n",
      "\n",
      "未経験で雑魚な立ち位置だったが、楽だったわ。\n",
      "\n"
     ]
    }
   ],
   "source": [
    "# Twitter limits simultaneous connections to the streaming API,\n",
    "# so this part may not work using the demo API keys during class\n",
    "\n",
    "endpoint = 'statuses/filter'\n",
    "params = {'locations': '-180,-90,180,90'}\n",
    "r = api.request(endpoint, params)\n",
    "LIMIT = 20\n",
    "\n",
    "# 'enumerate' lets us count tweets as we receive them\n",
    "\n",
    "for i, tweet in enumerate(r.get_iterator()):\n",
    "    print(tweet['created_at'])\n",
    "    print(tweet['place']['full_name'] + ', ' + tweet['place']['country'])\n",
    "    print(tweet['text'] + '\\n')\n",
    "    if (i > LIMIT): break\n",
    "\n",
    "# close the streaming connection\n",
    "r.close()"
   ]
  },
  {
   "cell_type": "code",
   "execution_count": null,
   "metadata": {},
   "outputs": [],
   "source": []
  },
  {
   "cell_type": "code",
   "execution_count": null,
   "metadata": {},
   "outputs": [],
   "source": []
  },
  {
   "cell_type": "code",
   "execution_count": null,
   "metadata": {},
   "outputs": [],
   "source": []
  },
  {
   "cell_type": "markdown",
   "metadata": {},
   "source": [
    "### Exercises for the remainder of class\n",
    "\n",
    "1. Make a scatter plot of the lat-lon coordinates of earthquakes.  \n",
    "   &nbsp;\n",
    "   \n",
    "2. Using the geocoding example as a starting point, try searching the Google Maps Directions API or Elevation API instead. Descriptions are in the [API documentation](https://developers.google.com/maps/documentation/geocoding/intro).  \n",
    "   &nbsp;\n",
    "   "
   ]
  },
  {
   "cell_type": "code",
   "execution_count": 54,
   "metadata": {},
   "outputs": [
    {
     "name": "stdout",
     "output_type": "stream",
     "text": [
      "474\n"
     ]
    }
   ],
   "source": [
    "# pull out lartitude and longitude into a Pandas dataframe, using\n",
    "# a more compact Python syntax for iterating through lists\n",
    "\n",
    "ll = {'latitude': [q['geometry']['coordinates'][0] for q in quakes],\n",
    "     'longitude': [q['geometry']['coordinates'][1] for q in quakes]}\n",
    "\n",
    "llp = pd.DataFrame.from_dict(ll)\n",
    "\n",
    "# how many earthquakes were loaded into the dataframe?\n",
    "print(len(llp))"
   ]
  },
  {
   "cell_type": "code",
   "execution_count": 55,
   "metadata": {},
   "outputs": [
    {
     "data": {
      "text/plain": [
       "<AxesSubplot:xlabel='latitude', ylabel='longitude'>"
      ]
     },
     "execution_count": 55,
     "metadata": {},
     "output_type": "execute_result"
    },
    {
     "data": {
      "image/png": "[encoded data removed]",
      "text/plain": [
       "<Figure size 432x288 with 1 Axes>"
      ]
     },
     "metadata": {
      "needs_background": "light"
     },
     "output_type": "display_data"
    }
   ],
   "source": [
    "llp.plot(x='latitude', y='longitude', kind='scatter')"
   ]
  },
  {
   "cell_type": "markdown",
   "metadata": {
    "collapsed": true
   },
   "source": [
    "### For next time...\n",
    "\n",
    "In the next class, you will try out another API that provides data you're interested in. You will be asked to try connecting to it using Python code, and performing some basic operations on the data.  To come prepared for next time, please explore some of the transportation-related APIs that may be valuable, and choose one that is of interest to you.\n",
    "\n",
    "Here are a a few to get you started. \n",
    "\n",
    "Public Transit\n",
    "https://www.programmableweb.com/news/how-smart-cities-are-using-apis-public-transport-apis/2014/05/22\n",
    "\n",
    "Long-Distance Travel\n",
    "http://www.olery.com/blog/the-best-travel-apis-discover-contribute/ \n",
    "\n",
    "Transportation\n",
    "https://www.programmableweb.com/category/transportation/api\n",
    "\n",
    "\n",
    "Start by reading the public transit page, because that provides a nice overview of the types of applications out there, and some of the issues in using them.  These lessons often apply to traffic and transportation more generally.  \n",
    "\n",
    "Keep in mind that there are a number of different organizations that provide APIs, with different motivations and quality of what is provided.  If it is a private company, what is their business model?  What is the underlying source of the data, and what might that imply about how representative it is of the real world?  There is a ton of stuff out there.  How do we go about sorting out what is useful to us and what is now.  Spend some time exploring these and thinking about these questions.  \n"
   ]
  },
  {
   "cell_type": "code",
   "execution_count": null,
   "metadata": {},
   "outputs": [],
   "source": []
  },
  {
   "cell_type": "code",
   "execution_count": null,
   "metadata": {},
   "outputs": [],
   "source": []
  }
 ],
 "metadata": {
  "anaconda-cloud": {},
  "kernelspec": {
   "display_name": "Python 3",
   "language": "python",
   "name": "python3"
  },
  "language_info": {
   "codemirror_mode": {
    "name": "ipython",
    "version": 3
   },
   "file_extension": ".py",
   "mimetype": "text/x-python",
   "name": "python",
   "nbconvert_exporter": "python",
   "pygments_lexer": "ipython3",
   "version": "3.8.5"
  }
 },
 "nbformat": 4,
 "nbformat_minor": 1
}
